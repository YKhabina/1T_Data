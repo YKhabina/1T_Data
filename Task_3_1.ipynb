{
 "cells": [
  {
   "cell_type": "code",
   "execution_count": 8,
   "id": "6dafbde9",
   "metadata": {},
   "outputs": [],
   "source": [
    "import math as m\n"
   ]
  },
  {
   "cell_type": "markdown",
   "id": "28403552",
   "metadata": {},
   "source": [
    " ### a) Написать программу, которая удаляет из списка все элементы, стоящие на четных позициях.  "
   ]
  },
  {
   "cell_type": "code",
   "execution_count": 13,
   "id": "bbaa0fcd",
   "metadata": {},
   "outputs": [
    {
     "name": "stdout",
     "output_type": "stream",
     "text": [
      "[1, 1, 0, 7]\n"
     ]
    }
   ],
   "source": [
    "a = [1,2,1,5,0,3,7,8]   \n",
    "b=a[::2]\n",
    "print(b)"
   ]
  },
  {
   "cell_type": "markdown",
   "id": "7dffb451",
   "metadata": {},
   "source": [
    "### b) Написать программу, которая считывает список слов и находит слова, содержащие более трех гласных букв."
   ]
  },
  {
   "cell_type": "code",
   "execution_count": 5,
   "id": "97f16d5a",
   "metadata": {},
   "outputs": [
    {
     "name": "stdout",
     "output_type": "stream",
     "text": [
      "Введите слова через пробел:он два свиристель высь три ярмарочный приз\n",
      "свиристель\n",
      "ярмарочный\n"
     ]
    }
   ],
   "source": [
    "text = input('Введите слова через пробел:').lower()\n",
    "words = text.split(' ')\n",
    "count=0\n",
    "vowels=set('аеёиоуыэюя')\n",
    "for word in words:\n",
    "    for letter in word:\n",
    "        if letter in vowels:\n",
    "            count += 1\n",
    "    if count>3:\n",
    "        print(word)\n",
    "        count=0\n"
   ]
  },
  {
   "cell_type": "markdown",
   "id": "86b88462",
   "metadata": {},
   "source": [
    "### c) Написать программу, которая находит второй по величине элемент в списке.\n"
   ]
  },
  {
   "cell_type": "code",
   "execution_count": 110,
   "id": "99d4ee0a",
   "metadata": {},
   "outputs": [
    {
     "name": "stdout",
     "output_type": "stream",
     "text": [
      "Введите значения через пробел: 20 30 60 40 10 2\n",
      "Второй по величине элемент в списке  40\n"
     ]
    }
   ],
   "source": [
    "# 1 вариант\n",
    "List = input('Введите значения через пробел: ').split(' ') \n",
    "List.sort()\n",
    "print('Второй по величине элемент в списке ',List[-2])"
   ]
  },
  {
   "cell_type": "code",
   "execution_count": 111,
   "id": "1fe4bed5",
   "metadata": {},
   "outputs": [
    {
     "name": "stdout",
     "output_type": "stream",
     "text": [
      "Введите значения через пробел: 20 30 60 40 10 2\n",
      "Второй по величине элемент в списке  40\n"
     ]
    }
   ],
   "source": [
    "#2 вариант\n",
    " \n",
    "List = input('Введите значения через пробел: ').split(' ') \n",
    "new_list = set(List) \n",
    "new_list.remove(max(new_list)) \n",
    "print('Второй по величине элемент в списке ',max(new_list)) \n"
   ]
  },
  {
   "cell_type": "markdown",
   "id": "118466d9",
   "metadata": {},
   "source": [
    "d) Написать программу, которая удаляет из списка все дубликаты.\n"
   ]
  },
  {
   "cell_type": "code",
   "execution_count": 92,
   "id": "5381a42a",
   "metadata": {},
   "outputs": [
    {
     "name": "stdout",
     "output_type": "stream",
     "text": [
      "Введите значения через пробел: 1 2 3 3 5 66 7 8 1 2\n",
      "['7', '1', '2', '3', '66', '8', '5']\n"
     ]
    }
   ],
   "source": [
    "#1 вариант\n",
    "List = input('Введите значения через пробел: ').split(' ')  \n",
    "list_new=list(set(List))\n",
    "print(list_new)"
   ]
  },
  {
   "cell_type": "code",
   "execution_count": 98,
   "id": "214d09ec",
   "metadata": {},
   "outputs": [
    {
     "name": "stdout",
     "output_type": "stream",
     "text": [
      "Введите значения через пробел: 1 2 3 3 5 66 7 8 1 2\n",
      "['1', '2', '3', '5', '66', '7', '8']\n"
     ]
    }
   ],
   "source": [
    "# 2 вариант\n",
    "List = input('Введите значения через пробел: ').split(' ') \n",
    "temp = [] \n",
    "[temp.append(x) for x in List if x not in temp] \n",
    "print(temp) \n"
   ]
  },
  {
   "cell_type": "code",
   "execution_count": 99,
   "id": "cae3a95d",
   "metadata": {},
   "outputs": [
    {
     "name": "stdout",
     "output_type": "stream",
     "text": [
      "Введите значения через пробел: 1 2 3 3 5 66 7 8 1 2\n",
      "['1', '2', '3', '5', '66', '7', '8']\n"
     ]
    }
   ],
   "source": [
    "# 3 вариант\n",
    "List = input('Введите значения через пробел: ').split(' ')  \n",
    "List1 = list(dict.fromkeys(List)) \n",
    "print(List1) \n"
   ]
  },
  {
   "cell_type": "markdown",
   "id": "12746fec",
   "metadata": {},
   "source": [
    "### e) Написать программу, которая считывает данные из CSV-файла и создает словарь, где ключами являются значения в столбце «Name», а значениями — соответствующие им словари с информацией о поле, возрасте и зарплате."
   ]
  },
  {
   "cell_type": "code",
   "execution_count": 9,
   "id": "1577a037",
   "metadata": {},
   "outputs": [
    {
     "data": {
      "text/plain": [
       "{'Смирнова Юлия': ['Female', 19, 20000],\n",
       " 'Агзамова Майя': ['Female', 35, 48000],\n",
       " 'Стефанов Алексей': ['Male', 42, 54000],\n",
       " 'Рогин Константин': ['Male', 21, 21000],\n",
       " 'Финтиков Кирилл': ['Male', 34, 75000]}"
      ]
     },
     "execution_count": 9,
     "metadata": {},
     "output_type": "execute_result"
    }
   ],
   "source": [
    "import pandas as pd\n",
    "df = pd.read_csv(\"data.csv\")\n",
    "dict_list=dict([i,[a,b,c]] for i, a,b,c in zip(df.Name, df.Gender,df.Age,df.Salary))\n",
    "dict_list\n"
   ]
  },
  {
   "cell_type": "markdown",
   "id": "cc4a15dd",
   "metadata": {},
   "source": [
    "### f) Написать программу, которая запрашивает у пользователя строку и выводит на экран все ее подстроки длиной не менее трех символов."
   ]
  },
  {
   "cell_type": "code",
   "execution_count": 48,
   "id": "ae268713",
   "metadata": {},
   "outputs": [
    {
     "name": "stdout",
     "output_type": "stream",
     "text": [
      "Введите строку: да мороз кол он\n",
      "мороз\n",
      "кол\n"
     ]
    }
   ],
   "source": [
    "string = input('Введите строку: ')\n",
    "words = string.split(' ')\n",
    "for word in words:\n",
    "    if len(word)>=3:\n",
    "        print(word)\n"
   ]
  }
 ],
 "metadata": {
  "kernelspec": {
   "display_name": "Python 3 (ipykernel)",
   "language": "python",
   "name": "python3"
  },
  "language_info": {
   "codemirror_mode": {
    "name": "ipython",
    "version": 3
   },
   "file_extension": ".py",
   "mimetype": "text/x-python",
   "name": "python",
   "nbconvert_exporter": "python",
   "pygments_lexer": "ipython3",
   "version": "3.11.3"
  }
 },
 "nbformat": 4,
 "nbformat_minor": 5
}
