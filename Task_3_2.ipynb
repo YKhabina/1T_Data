{
 "cells": [
  {
   "cell_type": "code",
   "execution_count": 1,
   "id": "9549ae72",
   "metadata": {},
   "outputs": [
    {
     "name": "stdout",
     "output_type": "stream",
     "text": [
      "Collecting psycopg2-binary\n",
      "  Downloading psycopg2_binary-2.9.6-cp311-cp311-win_amd64.whl (1.2 MB)\n",
      "                                              0.0/1.2 MB ? eta -:--:--\n",
      "     -                                        0.0/1.2 MB ? eta -:--:--\n",
      "     -                                        0.0/1.2 MB ? eta -:--:--\n",
      "     --                                       0.1/1.2 MB 573.4 kB/s eta 0:00:02\n",
      "     ---                                      0.1/1.2 MB 819.2 kB/s eta 0:00:02\n",
      "     -------                                  0.2/1.2 MB 888.4 kB/s eta 0:00:02\n",
      "     --------                                 0.2/1.2 MB 1.0 MB/s eta 0:00:01\n",
      "     --------                                 0.2/1.2 MB 1.0 MB/s eta 0:00:01\n",
      "     -----------                              0.3/1.2 MB 999.0 kB/s eta 0:00:01\n",
      "     -----------                              0.3/1.2 MB 999.0 kB/s eta 0:00:01\n",
      "     -----------                              0.3/1.2 MB 999.0 kB/s eta 0:00:01\n",
      "     -----------                              0.3/1.2 MB 999.0 kB/s eta 0:00:01\n",
      "     -----------                              0.3/1.2 MB 999.0 kB/s eta 0:00:01\n",
      "     -----------                              0.3/1.2 MB 999.0 kB/s eta 0:00:01\n",
      "     ------------                             0.4/1.2 MB 586.1 kB/s eta 0:00:02\n",
      "     ------------                             0.4/1.2 MB 586.1 kB/s eta 0:00:02\n",
      "     --------------                           0.4/1.2 MB 555.4 kB/s eta 0:00:02\n",
      "     ---------------                          0.5/1.2 MB 599.9 kB/s eta 0:00:02\n",
      "     ---------------                          0.5/1.2 MB 599.9 kB/s eta 0:00:02\n",
      "     ---------------------                    0.6/1.2 MB 715.2 kB/s eta 0:00:01\n",
      "     ---------------------                    0.6/1.2 MB 715.2 kB/s eta 0:00:01\n",
      "     ---------------------                    0.6/1.2 MB 715.2 kB/s eta 0:00:01\n",
      "     ---------------------                    0.6/1.2 MB 715.2 kB/s eta 0:00:01\n",
      "     ---------------------                    0.6/1.2 MB 715.2 kB/s eta 0:00:01\n",
      "     ---------------------                    0.6/1.2 MB 715.2 kB/s eta 0:00:01\n",
      "     ------------------------------           0.9/1.2 MB 773.7 kB/s eta 0:00:01\n",
      "     ------------------------------           0.9/1.2 MB 773.7 kB/s eta 0:00:01\n",
      "     ------------------------------           0.9/1.2 MB 773.7 kB/s eta 0:00:01\n",
      "     ---------------------------------        1.0/1.2 MB 760.3 kB/s eta 0:00:01\n",
      "     ---------------------------------        1.0/1.2 MB 760.3 kB/s eta 0:00:01\n",
      "     ---------------------------------        1.0/1.2 MB 760.3 kB/s eta 0:00:01\n",
      "     ----------------------------------       1.0/1.2 MB 714.9 kB/s eta 0:00:01\n",
      "     ----------------------------------       1.0/1.2 MB 714.9 kB/s eta 0:00:01\n",
      "     -------------------------------------    1.1/1.2 MB 723.6 kB/s eta 0:00:01\n",
      "     -------------------------------------    1.1/1.2 MB 723.6 kB/s eta 0:00:01\n",
      "     -------------------------------------    1.1/1.2 MB 723.6 kB/s eta 0:00:01\n",
      "     ---------------------------------------- 1.2/1.2 MB 701.7 kB/s eta 0:00:00\n",
      "Installing collected packages: psycopg2-binary\n",
      "Successfully installed psycopg2-binary-2.9.6\n",
      "Note: you may need to restart the kernel to use updated packages.\n"
     ]
    }
   ],
   "source": [
    "pip install psycopg2-binary"
   ]
  },
  {
   "cell_type": "markdown",
   "id": "4bfcc671",
   "metadata": {},
   "source": [
    "Задание (новое)\n",
    "1. Ужасные новости! Ваш руководитель объявил четверг офисным днем! К такому вы явно не были готовы, однако ничего не поделаешь, придется отряхнуть давно запылившийся рюкзак и ехать, заодно и с командой можно будет познакомиться. По прибытии в офис вы обнаруживаете, что все ваши коллеги только и делают, что говорят о каких-то биткоинах, криптовалютах, блокчейне и прочем. Вам эти слова, конечно же, знакомы, однако чтобы «быть в теме», вы решили самостоятельно погрузиться в суть вещей. Как истинный разработчик вы нашли на просторах Интернета особый ресурс, который позволяет в любой момент времени получить настоящий курс почти любой криптовалюты. Адрес этого ресурса:\n",
    "\n",
    "Exchangerate.host - Unlimited & Free foreign, crypto exchange rates with currency conversion & EU VAT rates API\n",
    "\n",
    "А тут как раз совсем недавно также, повинуясь модным тенденциям, вы начали изучать Python и теперь готовы не просто «быть в теме», а еще и впечатлить ваших коллег!\n",
    "\n",
    "Вам необходимо заполучить данные о курсе биткоина (BTC) к рублю (RUB) за последний месяц.\n",
    "\n",
    "p.s. Месяц должен быть именно календарным, но любым, не обязательно привязываться к текущему месяцу, можно взять, например, январь или август прошлого года.\n",
    "\n",
    "\n",
    "2. Но эти данные важно не просто получить, а еще и проанализировать! Но чтобы проанализировать, вам необходимо их куда-нибудь записать. И тут на помощь приходят ваши умения работать с СУБД Postgres. \n",
    "Вы решили, что будет круто создать таблицу, в которой будет отражены id значения, дата измерения, первая валюта, вторая валюта и непосредственно сам курс. Попробуйте с помощью средств языка Python перенести данные, которые вы получите на прошлом шаге, в таблицу СУБД Postgres.\n",
    "\n",
    "p.s. Таблица может как быть заранее созданной, так и быть созданной в рамках того же python-скрипта\n",
    "\n",
    "3. Отлично, теперь у нас прекрасная табличка с данными об отношении курса биткоина к рублю за целый месяц. Теперь давайте решим главную задачу — впечатлим коллег! Используя средства языка Python, подключитесь к недавно созданной таблице и рассчитайте:\n",
    "\n",
    "1)день, в который значение курса было максимальным,\n",
    "\n",
    "2)день, в который значение курса было минимальным,\n",
    "\n",
    "3) максимальное значение курса,\n",
    "\n",
    "4) минимальное значение курса,\n",
    "\n",
    "5)среднее значение курса за весь месяц,\n",
    "\n",
    "6)значение курса на последний день месяца.\n",
    "\n",
    "И тут также важно использовать ваши навыки работы с базами данных. Создайте новую таблицу, где будет всего одна строка, но зато какая! Перенесите все рассчитанные показатели в эту таблицу, а также добавьте столбцы с информацией о валютах и месяце, за который производился расчет. \n",
    "\n",
    " \n",
    "В качестве результата предоставьте python-скрипт, который реализует описанную выше логику."
   ]
  },
  {
   "cell_type": "markdown",
   "id": "ee57aeb8",
   "metadata": {},
   "source": [
    "1. Парсим данные с сайта:"
   ]
  },
  {
   "cell_type": "code",
   "execution_count": 127,
   "id": "b441d0f6",
   "metadata": {},
   "outputs": [],
   "source": [
    "import requests       #для работы с web страницами\n",
    "import pandas as pd   #для работы с датафреймами\n",
    "import psycopg2\n",
    "import json           #для преобразования ответов в структурирвоанный json\n",
    "import numpy as np    #для математических операций\n",
    "from datetime import datetime  #для работы с датами"
   ]
  },
  {
   "cell_type": "code",
   "execution_count": 128,
   "id": "ab35cb6c",
   "metadata": {},
   "outputs": [],
   "source": [
    "BASE_URL = 'https://api.exchangerate.host/timeseries?'\n",
    "# URL метода "
   ]
  },
  {
   "cell_type": "code",
   "execution_count": 129,
   "id": "6a6d0980",
   "metadata": {},
   "outputs": [],
   "source": [
    "start_date = '2023-01-01'\n",
    "end_date = '2023-01-31'\n",
    "base = 'BTC'\n",
    "symbols = 'RUB'\n",
    "format = 'CSV'"
   ]
  },
  {
   "cell_type": "code",
   "execution_count": 130,
   "id": "db1582af",
   "metadata": {},
   "outputs": [],
   "source": [
    "params={'base': base,\n",
    "        'start_date': start_date,\n",
    "        'end_date': end_date,\n",
    "        'symbols': symbols,\n",
    "        'format': format}"
   ]
  },
  {
   "cell_type": "code",
   "execution_count": 131,
   "id": "c5eac95e",
   "metadata": {},
   "outputs": [],
   "source": [
    "response = requests.get(BASE_URL, params=params)"
   ]
  },
  {
   "cell_type": "code",
   "execution_count": 132,
   "id": "44a1c389",
   "metadata": {},
   "outputs": [
    {
     "data": {
      "text/plain": [
       "2148"
      ]
     },
     "execution_count": 132,
     "metadata": {},
     "output_type": "execute_result"
    }
   ],
   "source": [
    "file = open('BTC_Jan2023.csv', 'wb')     # записываем все в файл BTC_Jan2023.csv\n",
    "file.write(response.content)"
   ]
  },
  {
   "cell_type": "code",
   "execution_count": 133,
   "id": "ebaeb35b",
   "metadata": {},
   "outputs": [
    {
     "data": {
      "text/html": [
       "<div>\n",
       "<style scoped>\n",
       "    .dataframe tbody tr th:only-of-type {\n",
       "        vertical-align: middle;\n",
       "    }\n",
       "\n",
       "    .dataframe tbody tr th {\n",
       "        vertical-align: top;\n",
       "    }\n",
       "\n",
       "    .dataframe thead th {\n",
       "        text-align: right;\n",
       "    }\n",
       "</style>\n",
       "<table border=\"1\" class=\"dataframe\">\n",
       "  <thead>\n",
       "    <tr style=\"text-align: right;\">\n",
       "      <th></th>\n",
       "      <th>date</th>\n",
       "      <th>code</th>\n",
       "      <th>rate</th>\n",
       "      <th>base</th>\n",
       "      <th>start_date</th>\n",
       "      <th>end_date</th>\n",
       "    </tr>\n",
       "  </thead>\n",
       "  <tbody>\n",
       "    <tr>\n",
       "      <th>0</th>\n",
       "      <td>2023-01-01</td>\n",
       "      <td>RUB</td>\n",
       "      <td>1.231483e+06</td>\n",
       "      <td>BTC</td>\n",
       "      <td>2023-01-01</td>\n",
       "      <td>2023-01-31</td>\n",
       "    </tr>\n",
       "    <tr>\n",
       "      <th>1</th>\n",
       "      <td>2023-01-02</td>\n",
       "      <td>RUB</td>\n",
       "      <td>1.208671e+06</td>\n",
       "      <td>BTC</td>\n",
       "      <td>2023-01-01</td>\n",
       "      <td>2023-01-31</td>\n",
       "    </tr>\n",
       "    <tr>\n",
       "      <th>2</th>\n",
       "      <td>2023-01-03</td>\n",
       "      <td>RUB</td>\n",
       "      <td>1.223141e+06</td>\n",
       "      <td>BTC</td>\n",
       "      <td>2023-01-01</td>\n",
       "      <td>2023-01-31</td>\n",
       "    </tr>\n",
       "    <tr>\n",
       "      <th>3</th>\n",
       "      <td>2023-01-04</td>\n",
       "      <td>RUB</td>\n",
       "      <td>1.221057e+06</td>\n",
       "      <td>BTC</td>\n",
       "      <td>2023-01-01</td>\n",
       "      <td>2023-01-31</td>\n",
       "    </tr>\n",
       "    <tr>\n",
       "      <th>4</th>\n",
       "      <td>2023-01-05</td>\n",
       "      <td>RUB</td>\n",
       "      <td>1.204975e+06</td>\n",
       "      <td>BTC</td>\n",
       "      <td>2023-01-01</td>\n",
       "      <td>2023-01-31</td>\n",
       "    </tr>\n",
       "  </tbody>\n",
       "</table>\n",
       "</div>"
      ],
      "text/plain": [
       "         date code          rate base  start_date    end_date\n",
       "0  2023-01-01  RUB  1.231483e+06  BTC  2023-01-01  2023-01-31\n",
       "1  2023-01-02  RUB  1.208671e+06  BTC  2023-01-01  2023-01-31\n",
       "2  2023-01-03  RUB  1.223141e+06  BTC  2023-01-01  2023-01-31\n",
       "3  2023-01-04  RUB  1.221057e+06  BTC  2023-01-01  2023-01-31\n",
       "4  2023-01-05  RUB  1.204975e+06  BTC  2023-01-01  2023-01-31"
      ]
     },
     "execution_count": 133,
     "metadata": {},
     "output_type": "execute_result"
    }
   ],
   "source": [
    "df = pd.read_csv('BTC_Jan2023.csv', decimal=',') # посмотрим как записалось в файл\n",
    "df = pd.DataFrame(df)\n",
    "df.head(5)"
   ]
  },
  {
   "cell_type": "code",
   "execution_count": 134,
   "id": "aeffd030",
   "metadata": {},
   "outputs": [
    {
     "name": "stdout",
     "output_type": "stream",
     "text": [
      "<class 'pandas.core.frame.DataFrame'>\n",
      "RangeIndex: 31 entries, 0 to 30\n",
      "Data columns (total 6 columns):\n",
      " #   Column      Non-Null Count  Dtype  \n",
      "---  ------      --------------  -----  \n",
      " 0   date        31 non-null     object \n",
      " 1   code        31 non-null     object \n",
      " 2   rate        31 non-null     float64\n",
      " 3   base        31 non-null     object \n",
      " 4   start_date  31 non-null     object \n",
      " 5   end_date    31 non-null     object \n",
      "dtypes: float64(1), object(5)\n",
      "memory usage: 1.6+ KB\n"
     ]
    }
   ],
   "source": [
    "df.info()"
   ]
  },
  {
   "cell_type": "code",
   "execution_count": 135,
   "id": "7bf73b94",
   "metadata": {},
   "outputs": [],
   "source": [
    "df1=df.drop(['start_date', 'end_date'], axis=1)    # удалим столбцы start и end date, так как они особо нам не нужны"
   ]
  },
  {
   "cell_type": "code",
   "execution_count": 136,
   "id": "e0f69f82",
   "metadata": {},
   "outputs": [],
   "source": [
    "df1.to_csv('upd_BTC_Jan2023.csv')             # запишем в новый файл 'upd_BTC_Jan2023.csv'"
   ]
  },
  {
   "cell_type": "markdown",
   "id": "7ba9620a",
   "metadata": {},
   "source": [
    "2.Проведем анализ:\n",
    "1) день, в который значение курса было максимальным,\n",
    "\n",
    "2) день, в который значение курса было минимальным,\n",
    "\n",
    "3) максимальное значение курса,\n",
    "\n",
    "4) минимальное значение курса,\n",
    "\n",
    "5) среднее значение курса за весь месяц,\n",
    "\n",
    "6) значение курса на последний день месяца."
   ]
  },
  {
   "cell_type": "code",
   "execution_count": 137,
   "id": "78308ccd",
   "metadata": {},
   "outputs": [
    {
     "data": {
      "text/plain": [
       "'2023-01-31'"
      ]
     },
     "execution_count": 137,
     "metadata": {},
     "output_type": "execute_result"
    }
   ],
   "source": [
    "day_max=df['date'].max(axis=0)\n",
    "day_max"
   ]
  },
  {
   "cell_type": "code",
   "execution_count": 138,
   "id": "90a4e0d5",
   "metadata": {},
   "outputs": [
    {
     "data": {
      "text/plain": [
       "'2023-01-01'"
      ]
     },
     "execution_count": 138,
     "metadata": {},
     "output_type": "execute_result"
    }
   ],
   "source": [
    "day_min=df['date'].min(axis=0)\n",
    "day_min"
   ]
  },
  {
   "cell_type": "code",
   "execution_count": 139,
   "id": "6bc9d211",
   "metadata": {},
   "outputs": [
    {
     "data": {
      "text/plain": [
       "1198845.096774"
      ]
     },
     "execution_count": 139,
     "metadata": {},
     "output_type": "execute_result"
    }
   ],
   "source": [
    "min_rate=df['rate'].min()    \n",
    "min_rate"
   ]
  },
  {
   "cell_type": "code",
   "execution_count": 140,
   "id": "d7d0b4d1",
   "metadata": {},
   "outputs": [
    {
     "data": {
      "text/plain": [
       "1670687.543478"
      ]
     },
     "execution_count": 140,
     "metadata": {},
     "output_type": "execute_result"
    }
   ],
   "source": [
    "max_rate=df['rate'].max()\n",
    "max_rate"
   ]
  },
  {
   "cell_type": "code",
   "execution_count": 141,
   "id": "b95475f0",
   "metadata": {},
   "outputs": [
    {
     "data": {
      "text/plain": [
       "1413587.697503516"
      ]
     },
     "execution_count": 141,
     "metadata": {},
     "output_type": "execute_result"
    }
   ],
   "source": [
    "avg_rate=df['rate'].mean()\n",
    "avg_rate"
   ]
  },
  {
   "cell_type": "code",
   "execution_count": 142,
   "id": "17e331d9",
   "metadata": {},
   "outputs": [
    {
     "name": "stdout",
     "output_type": "stream",
     "text": [
      "  Day when max rate      Max rate Day when min rate      Min rate  \\\n",
      "0        2023-01-31  1.670688e+06        2023-01-01  1.198845e+06   \n",
      "\n",
      "       Avg rate  \n",
      "0  1.413588e+06  \n"
     ]
    }
   ],
   "source": [
    "df2 = pd.DataFrame({'Day when max rate': [day_max],'Max rate': [max_rate], 'Day when min rate': [day_min], 'Min rate': [min_rate],'Avg rate':[avg_rate]})\n",
    " \n",
    "print(df2)"
   ]
  },
  {
   "cell_type": "code",
   "execution_count": 143,
   "id": "7b9dda12",
   "metadata": {},
   "outputs": [],
   "source": [
    "df2.to_csv('analysis_BTC_Jan2023.csv')   # записали в отдельный файлик все рассчитанные значения"
   ]
  },
  {
   "cell_type": "markdown",
   "id": "60254968",
   "metadata": {},
   "source": [
    "3. Нужно записать полученные данные в СУБД Постгрес:"
   ]
  },
  {
   "cell_type": "code",
   "execution_count": 287,
   "id": "27088396",
   "metadata": {},
   "outputs": [],
   "source": [
    "db_con = psycopg2.connect(database='testdb',     # создадим подключение к созданной базе данных exrate\n",
    "                        user='postgres',\n",
    "                        password='pass',\n",
    "                        host='localhost',\n",
    "                        port=5435)\n",
    "cur = db_con.cursor()"
   ]
  },
  {
   "cell_type": "code",
   "execution_count": 282,
   "id": "ca34602a",
   "metadata": {},
   "outputs": [],
   "source": [
    "cur.execute(\"\"\" CREATE TABLE btc_Jan2023(\n",
    "    id SERIAL PRIMARY KEY,\n",
    "    date DATE,\n",
    "    val_id VARCHAR,\n",
    "    base_rate DECIMAL,\n",
    "    val_base VARCHAR\n",
    ")\n",
    "\"\"\") \n",
    "db_con.commit()         # создадим таблицу btc_Jan2023  "
   ]
  },
  {
   "cell_type": "code",
   "execution_count": 283,
   "id": "9b234d30",
   "metadata": {},
   "outputs": [],
   "source": [
    "cur.execute(\"\"\" COPY btc_Jan2023 \n",
    "FROM '/tmp/upd_BTC_Jan2023.csv'\n",
    "DELIMITER ','\n",
    "CSV HEADER;\"\"\")\n",
    "db_con.commit() # запишем файл с курсом в таблицу  (предварительно передали файл в контейнер командой docker cp C:\\Users\\jsb24\\.docker\\exdb\\upd_BTC_Jan2023.csv ex_cont:/tmp/\n"
   ]
  },
  {
   "cell_type": "code",
   "execution_count": 284,
   "id": "39621a51",
   "metadata": {},
   "outputs": [
    {
     "name": "stdout",
     "output_type": "stream",
     "text": [
      "(0, datetime.date(2023, 1, 1), 'RUB', Decimal('1231482.765625'), 'BTC')\n"
     ]
    }
   ],
   "source": [
    "cur.execute(\"\"\"select * from btc_Jan2023;\"\"\")            #проверка записи\n",
    "print(cur.fetchone())\n",
    "db_con.commit()"
   ]
  },
  {
   "cell_type": "code",
   "execution_count": 288,
   "id": "8b05e111",
   "metadata": {},
   "outputs": [],
   "source": [
    "cur.execute(\"\"\"                                     \n",
    "CREATE TABLE btc_analysis(\n",
    "    id serial,\n",
    "    Date_max DATE ,\n",
    "    Max_rate DECIMAL,\n",
    "    Date_min DATE ,\n",
    "    Min_rate DECIMAL,\n",
    "    Avg_rate DECIMAL\n",
    "    \n",
    ")\n",
    "\"\"\")  \n",
    "db_con.commit()    # создадим таблицу c анализом курса  "
   ]
  },
  {
   "cell_type": "code",
   "execution_count": 289,
   "id": "354d8ce4",
   "metadata": {},
   "outputs": [],
   "source": [
    "cur.execute(\"\"\" COPY btc_analysis \n",
    "FROM '/tmp/analysis_BTC_Jan2023.csv'\n",
    "DELIMITER ','\n",
    "CSV HEADER;\"\"\")\n",
    "db_con.commit() # запишем файл с курсом в таблицу  (предварительно передали файл в контейнер командой docker cp C:\\Users\\jsb24\\.docker\\exdb\\analysis_BTC_Jan2023.csv ex_cont:/tmp/)"
   ]
  },
  {
   "cell_type": "code",
   "execution_count": 291,
   "id": "c14b4325",
   "metadata": {},
   "outputs": [
    {
     "name": "stdout",
     "output_type": "stream",
     "text": [
      "[(0, datetime.date(2023, 1, 31), Decimal('1670687.543478'), datetime.date(2023, 1, 1), Decimal('1198845.096774'), Decimal('1413587.697503516'))]\n"
     ]
    }
   ],
   "source": [
    "cur.execute(\"\"\"select * from btc_analysis;\"\"\")            #проверка записи\n",
    "print(cur.fetchall())\n",
    "db_con.commit()"
   ]
  },
  {
   "cell_type": "code",
   "execution_count": null,
   "id": "e3d1847c",
   "metadata": {},
   "outputs": [],
   "source": []
  }
 ],
 "metadata": {
  "kernelspec": {
   "display_name": "Python 3 (ipykernel)",
   "language": "python",
   "name": "python3"
  },
  "language_info": {
   "codemirror_mode": {
    "name": "ipython",
    "version": 3
   },
   "file_extension": ".py",
   "mimetype": "text/x-python",
   "name": "python",
   "nbconvert_exporter": "python",
   "pygments_lexer": "ipython3",
   "version": "3.11.3"
  }
 },
 "nbformat": 4,
 "nbformat_minor": 5
}
