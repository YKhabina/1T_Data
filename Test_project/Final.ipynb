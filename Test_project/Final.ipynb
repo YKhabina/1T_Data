{
 "cells": [
  {
   "cell_type": "markdown",
   "id": "fafab61d",
   "metadata": {},
   "source": [
    "__Общая задача:__ создать скрипт для формирования витрины на основе логов web-сайта."
   ]
  },
  {
   "cell_type": "code",
   "execution_count": 3,
   "id": "4ceac194",
   "metadata": {},
   "outputs": [],
   "source": [
    "import pandas as pd        # импортируем необходимые библиотеки\n",
    "import numpy as np\n",
    "import psycopg2\n",
    "from datetime import datetime\n",
    "import re"
   ]
  },
  {
   "cell_type": "code",
   "execution_count": 4,
   "id": "c60b82f3",
   "metadata": {},
   "outputs": [],
   "source": [
    "# Import SparkSession\n",
    "from pyspark.sql import SparkSession\n",
    "from pyspark.sql import Window\n",
    "from pyspark.sql.functions import *\n",
    "import pyspark.sql.functions as F\n"
   ]
  },
  {
   "cell_type": "code",
   "execution_count": 5,
   "id": "1f856d6b",
   "metadata": {},
   "outputs": [],
   "source": [
    "# Create SparkSession \n",
    "spark = SparkSession.builder \\\n",
    "  .master(\"local[1]\") \\\n",
    "  .appName(\"SparkFirst\") \\\n",
    "  .config(\"spark.executor.memory\", \"10g\")\\\n",
    "  .config(\"spark.executor.cores\", 5) \\\n",
    "  .config(\"spark.dynamicAllocation.enabled\", \"true\") \\\n",
    "  .config(\"spark.dynamicAllocation.maxExecutors\", 5) \\\n",
    "  .config(\"spark.shuffle.service.enabled\", \"true\") \\\n",
    "  .getOrCreate()"
   ]
  },
  {
   "cell_type": "code",
   "execution_count": 6,
   "id": "3a33a21c",
   "metadata": {},
   "outputs": [
    {
     "name": "stdout",
     "output_type": "stream",
     "text": [
      "root\n",
      " |-- value: string (nullable = true)\n",
      "\n"
     ]
    }
   ],
   "source": [
    "base_df = spark.read.text('access.log')\n",
    "base_df.printSchema()"
   ]
  },
  {
   "cell_type": "code",
   "execution_count": 5,
   "id": "79ffb471",
   "metadata": {},
   "outputs": [
    {
     "name": "stdout",
     "output_type": "stream",
     "text": [
      "+--------------------------------------------------------------------------------------------------------------------------------------------------------------------------------------------------------------------------------------------------------------------------------------------------------------------------+\n",
      "|value                                                                                                                                                                                                                                                                                                                     |\n",
      "+--------------------------------------------------------------------------------------------------------------------------------------------------------------------------------------------------------------------------------------------------------------------------------------------------------------------------+\n",
      "|54.36.149.41 - - [22/Jan/2019:03:56:14 +0330] \"GET /filter/27|13%20%D9%85%DA%AF%D8%A7%D9%BE%DB%8C%DA%A9%D8%B3%D9%84,27|%DA%A9%D9%85%D8%AA%D8%B1%20%D8%A7%D8%B2%205%20%D9%85%DA%AF%D8%A7%D9%BE%DB%8C%DA%A9%D8%B3%D9%84,p53 HTTP/1.1\" 200 30577 \"-\" \"Mozilla/5.0 (compatible; AhrefsBot/6.1; +http://ahrefs.com/robot/)\" \"-\"|\n",
      "|31.56.96.51 - - [22/Jan/2019:03:56:16 +0330] \"GET /image/60844/productModel/200x200 HTTP/1.1\" 200 5667 \"https://www.zanbil.ir/m/filter/b113\" \"Mozilla/5.0 (Linux; Android 6.0; ALE-L21 Build/HuaweiALE-L21) AppleWebKit/537.36 (KHTML, like Gecko) Chrome/66.0.3359.158 Mobile Safari/537.36\" \"-\"                         |\n",
      "|31.56.96.51 - - [22/Jan/2019:03:56:16 +0330] \"GET /image/61474/productModel/200x200 HTTP/1.1\" 200 5379 \"https://www.zanbil.ir/m/filter/b113\" \"Mozilla/5.0 (Linux; Android 6.0; ALE-L21 Build/HuaweiALE-L21) AppleWebKit/537.36 (KHTML, like Gecko) Chrome/66.0.3359.158 Mobile Safari/537.36\" \"-\"                         |\n",
      "+--------------------------------------------------------------------------------------------------------------------------------------------------------------------------------------------------------------------------------------------------------------------------------------------------------------------------+\n",
      "only showing top 3 rows\n",
      "\n"
     ]
    }
   ],
   "source": [
    "base_df.show(3, truncate=False)\n"
   ]
  },
  {
   "cell_type": "code",
   "execution_count": 6,
   "id": "09be15fc",
   "metadata": {},
   "outputs": [
    {
     "data": {
      "text/plain": [
       "0"
      ]
     },
     "execution_count": 6,
     "metadata": {},
     "output_type": "execute_result"
    }
   ],
   "source": [
    "(base_df.filter(base_df['value'].isNull()).count()) # проверим есть ли нулевые строки в исходном датафрейме"
   ]
  },
  {
   "cell_type": "code",
   "execution_count": 9,
   "id": "36de98da",
   "metadata": {},
   "outputs": [
    {
     "data": {
      "text/plain": [
       "['54.36.149.41 - - [22/Jan/2019:03:56:14 +0330] \"GET /filter/27|13%20%D9%85%DA%AF%D8%A7%D9%BE%DB%8C%DA%A9%D8%B3%D9%84,27|%DA%A9%D9%85%D8%AA%D8%B1%20%D8%A7%D8%B2%205%20%D9%85%DA%AF%D8%A7%D9%BE%DB%8C%DA%A9%D8%B3%D9%84,p53 HTTP/1.1\" 200 30577 \"-\" \"Mozilla/5.0 (compatible; AhrefsBot/6.1; +http://ahrefs.com/robot/)\" \"-\"',\n",
       " '31.56.96.51 - - [22/Jan/2019:03:56:16 +0330] \"GET /image/60844/productModel/200x200 HTTP/1.1\" 200 5667 \"https://www.zanbil.ir/m/filter/b113\" \"Mozilla/5.0 (Linux; Android 6.0; ALE-L21 Build/HuaweiALE-L21) AppleWebKit/537.36 (KHTML, like Gecko) Chrome/66.0.3359.158 Mobile Safari/537.36\" \"-\"',\n",
       " '31.56.96.51 - - [22/Jan/2019:03:56:16 +0330] \"GET /image/61474/productModel/200x200 HTTP/1.1\" 200 5379 \"https://www.zanbil.ir/m/filter/b113\" \"Mozilla/5.0 (Linux; Android 6.0; ALE-L21 Build/HuaweiALE-L21) AppleWebKit/537.36 (KHTML, like Gecko) Chrome/66.0.3359.158 Mobile Safari/537.36\" \"-\"',\n",
       " '40.77.167.129 - - [22/Jan/2019:03:56:17 +0330] \"GET /image/14925/productModel/100x100 HTTP/1.1\" 200 1696 \"-\" \"Mozilla/5.0 (compatible; bingbot/2.0; +http://www.bing.com/bingbot.htm)\" \"-\"',\n",
       " '91.99.72.15 - - [22/Jan/2019:03:56:17 +0330] \"GET /product/31893/62100/%D8%B3%D8%B4%D9%88%D8%A7%D8%B1-%D8%AE%D8%A7%D9%86%DA%AF%DB%8C-%D9%BE%D8%B1%D9%86%D8%B3%D9%84%DB%8C-%D9%85%D8%AF%D9%84-PR257AT HTTP/1.1\" 200 41483 \"-\" \"Mozilla/5.0 (Windows NT 6.2; Win64; x64; rv:16.0)Gecko/16.0 Firefox/16.0\" \"-\"']"
      ]
     },
     "execution_count": 9,
     "metadata": {},
     "output_type": "execute_result"
    }
   ],
   "source": [
    "sample_logs = [item['value'] for item in base_df.take(5)]  # выберем небольшую выборку из основного датафрейма для проверки регулярок\n",
    "sample_logs"
   ]
  },
  {
   "cell_type": "markdown",
   "id": "bd6117f8",
   "metadata": {},
   "source": [
    "При помощи регулярных выражений спарсим необходимые данные. Из лога я взяла не все данные, только хост, время, метод, протокол, статус и самое главное строку с User agent-информацией."
   ]
  },
  {
   "cell_type": "code",
   "execution_count": 10,
   "id": "5dfea2b7",
   "metadata": {},
   "outputs": [
    {
     "data": {
      "text/plain": [
       "['54.36.149.41', '31.56.96.51', '31.56.96.51', '40.77.167.129', '91.99.72.15']"
      ]
     },
     "execution_count": 10,
     "metadata": {},
     "output_type": "execute_result"
    }
   ],
   "source": [
    "host_pattern = r'(^\\S+\\.[\\S+\\.]+\\S+)\\s'              #регулярное выражение для хоста\n",
    "hosts = [re.search(host_pattern, item).group(1)\n",
    "           if re.search(host_pattern, item)\n",
    "           else 'no match'\n",
    "           for item in sample_logs]\n",
    "hosts"
   ]
  },
  {
   "cell_type": "code",
   "execution_count": 11,
   "id": "24f93089",
   "metadata": {},
   "outputs": [
    {
     "data": {
      "text/plain": [
       "['22/Jan/2019', '22/Jan/2019', '22/Jan/2019', '22/Jan/2019', '22/Jan/2019']"
      ]
     },
     "execution_count": 11,
     "metadata": {},
     "output_type": "execute_result"
    }
   ],
   "source": [
    "ts_pattern = r'\\[([^:]+):(\\d+:\\d+:\\d+) ([^\\]]+)\\]'   #регулярное выражение для даты\n",
    "timestamps = [re.search(ts_pattern, item).group(1) for item in sample_logs]\n",
    "timestamps"
   ]
  },
  {
   "cell_type": "code",
   "execution_count": 12,
   "id": "dd4f9172",
   "metadata": {},
   "outputs": [
    {
     "data": {
      "text/plain": [
       "[('GET',\n",
       "  '/filter/27|13%20%D9%85%DA%AF%D8%A7%D9%BE%DB%8C%DA%A9%D8%B3%D9%84,27|%DA%A9%D9%85%D8%AA%D8%B1%20%D8%A7%D8%B2%205%20%D9%85%DA%AF%D8%A7%D9%BE%DB%8C%DA%A9%D8%B3%D9%84,p53',\n",
       "  'HTTP/1.1'),\n",
       " ('GET', '/image/60844/productModel/200x200', 'HTTP/1.1'),\n",
       " ('GET', '/image/61474/productModel/200x200', 'HTTP/1.1'),\n",
       " ('GET', '/image/14925/productModel/100x100', 'HTTP/1.1'),\n",
       " ('GET',\n",
       "  '/product/31893/62100/%D8%B3%D8%B4%D9%88%D8%A7%D8%B1-%D8%AE%D8%A7%D9%86%DA%AF%DB%8C-%D9%BE%D8%B1%D9%86%D8%B3%D9%84%DB%8C-%D9%85%D8%AF%D9%84-PR257AT',\n",
       "  'HTTP/1.1')]"
      ]
     },
     "execution_count": 12,
     "metadata": {},
     "output_type": "execute_result"
    }
   ],
   "source": [
    "method_uri_protocol_pattern = r'\\\"(\\S+) (.*?) (\\S+)\\\"'     #регулярное выражение для метода\n",
    "method_uri_protocol = [re.search(method_uri_protocol_pattern, item).groups()\n",
    "               if re.search(method_uri_protocol_pattern, item)\n",
    "               else 'no match'\n",
    "              for item in sample_logs]\n",
    "method_uri_protocol"
   ]
  },
  {
   "cell_type": "code",
   "execution_count": 13,
   "id": "dcca7a75",
   "metadata": {},
   "outputs": [
    {
     "name": "stdout",
     "output_type": "stream",
     "text": [
      "['200', '200', '200', '200', '200']\n"
     ]
    }
   ],
   "source": [
    "status_pattern = r'\\s(\\d{3})\\s'                     #регулярное выражение для ответа\n",
    "status = [re.search(status_pattern, item).group(1) for item in sample_logs]\n",
    "print(status)"
   ]
  },
  {
   "cell_type": "code",
   "execution_count": 14,
   "id": "89fa0f42",
   "metadata": {},
   "outputs": [
    {
     "data": {
      "text/plain": [
       "['Mozilla/5.0 ',\n",
       " 'Mozilla/5.0 ',\n",
       " 'Mozilla/5.0 ',\n",
       " 'Mozilla/5.0 ',\n",
       " 'Mozilla/5.0 ']"
      ]
     },
     "execution_count": 14,
     "metadata": {},
     "output_type": "execute_result"
    }
   ],
   "source": [
    "user_agent_top=r'\\S+\\S+\\\".\\\"([^\\(]+)\\((.*)\\)'      #регулярное выражение для начала UA-строки\n",
    "user_agent = [re.search(user_agent_top, item).group(1) for item in sample_logs]\n",
    "user_agent"
   ]
  },
  {
   "cell_type": "code",
   "execution_count": 15,
   "id": "6b386da4",
   "metadata": {},
   "outputs": [
    {
     "data": {
      "text/plain": [
       "['compatible; AhrefsBot/6.1; +http://ahrefs.com/robot/)\"',\n",
       " 'Linux; Android 6.0; ALE-L21 Build/HuaweiALE-L21) AppleWebKit/537.36 (KHTML, like Gecko) Chrome/66.0.3359.158 Mobile Safari/537.36\"',\n",
       " 'Linux; Android 6.0; ALE-L21 Build/HuaweiALE-L21) AppleWebKit/537.36 (KHTML, like Gecko) Chrome/66.0.3359.158 Mobile Safari/537.36\"',\n",
       " 'compatible; bingbot/2.0; +http://www.bing.com/bingbot.htm)\"',\n",
       " 'Windows NT 6.2; Win64; x64; rv:16.0)Gecko/16.0 Firefox/16.0\"']"
      ]
     },
     "execution_count": 15,
     "metadata": {},
     "output_type": "execute_result"
    }
   ],
   "source": [
    "user_agent_end=r'\\((.*) '                       #регулярнео выражение для окончания UA-строки\n",
    "user_agent = [re.search(user_agent_end, item).group(1) for item in sample_logs]\n",
    "user_agent"
   ]
  },
  {
   "cell_type": "code",
   "execution_count": 16,
   "id": "6491902b",
   "metadata": {},
   "outputs": [
    {
     "name": "stdout",
     "output_type": "stream",
     "text": [
      "+-------------+-----------+------+--------------------+--------+------+--------------+--------------------+\n",
      "|         host|  timestamp|method|            endpoint|protocol|status|user_agent_top|      user_agent_end|\n",
      "+-------------+-----------+------+--------------------+--------+------+--------------+--------------------+\n",
      "| 54.36.149.41|22/Jan/2019|   GET|/filter/27|13%20%...|HTTP/1.1|   200|  Mozilla/5.0 |compatible; Ahref...|\n",
      "|  31.56.96.51|22/Jan/2019|   GET|/image/60844/prod...|HTTP/1.1|   200|  Mozilla/5.0 |Linux; Android 6....|\n",
      "|  31.56.96.51|22/Jan/2019|   GET|/image/61474/prod...|HTTP/1.1|   200|  Mozilla/5.0 |Linux; Android 6....|\n",
      "|40.77.167.129|22/Jan/2019|   GET|/image/14925/prod...|HTTP/1.1|   200|  Mozilla/5.0 |compatible; bingb...|\n",
      "|  91.99.72.15|22/Jan/2019|   GET|/product/31893/62...|HTTP/1.1|   200|  Mozilla/5.0 |Windows NT 6.2; W...|\n",
      "|40.77.167.129|22/Jan/2019|   GET|/image/23488/prod...|HTTP/1.1|   200|  Mozilla/5.0 |compatible; bingb...|\n",
      "|40.77.167.129|22/Jan/2019|   GET|/image/45437/prod...|HTTP/1.1|   200|  Mozilla/5.0 |compatible; bingb...|\n",
      "|40.77.167.129|22/Jan/2019|   GET|/image/576/articl...|HTTP/1.1|   200|  Mozilla/5.0 |compatible; bingb...|\n",
      "|66.249.66.194|22/Jan/2019|   GET|/filter/b41,b665,...|HTTP/1.1|   200|  Mozilla/5.0 |compatible; Googl...|\n",
      "|40.77.167.129|22/Jan/2019|   GET|/image/57710/prod...|HTTP/1.1|   200|  Mozilla/5.0 |compatible; bingb...|\n",
      "+-------------+-----------+------+--------------------+--------+------+--------------+--------------------+\n",
      "only showing top 10 rows\n",
      "\n",
      "(10365152, 8)\n"
     ]
    }
   ],
   "source": [
    "from pyspark.sql.functions import regexp_extract       # теперь объединяем все вместе\n",
    "\n",
    "logs_df = base_df.select(regexp_extract('value', host_pattern, 1).alias('host'),\n",
    "                         regexp_extract('value', ts_pattern, 1).alias('timestamp'),\n",
    "                         regexp_extract('value', method_uri_protocol_pattern, 1).alias('method'),\n",
    "                         regexp_extract('value', method_uri_protocol_pattern, 2).alias('endpoint'),\n",
    "                         regexp_extract('value', method_uri_protocol_pattern, 3).alias('protocol'),\n",
    "                         regexp_extract('value', status_pattern, 1).cast('integer').alias('status'),\n",
    "                         regexp_extract('value', user_agent_top, 1).alias('user_agent_top'),\n",
    "                         regexp_extract('value', user_agent_end, 1).alias('user_agent_end'))\n",
    "logs_df.show(10, truncate=True)\n",
    "print((logs_df.count(), len(logs_df.columns)))"
   ]
  },
  {
   "cell_type": "markdown",
   "id": "c60a9832",
   "metadata": {},
   "source": [
    "Проверим схему нашего датафрейма."
   ]
  },
  {
   "cell_type": "code",
   "execution_count": 17,
   "id": "4f2ee7c6",
   "metadata": {},
   "outputs": [
    {
     "name": "stdout",
     "output_type": "stream",
     "text": [
      "root\n",
      " |-- host: string (nullable = true)\n",
      " |-- timestamp: string (nullable = true)\n",
      " |-- method: string (nullable = true)\n",
      " |-- endpoint: string (nullable = true)\n",
      " |-- protocol: string (nullable = true)\n",
      " |-- status: integer (nullable = true)\n",
      " |-- user_agent_top: string (nullable = true)\n",
      " |-- user_agent_end: string (nullable = true)\n",
      "\n"
     ]
    }
   ],
   "source": [
    "logs_df.printSchema()"
   ]
  },
  {
   "cell_type": "markdown",
   "id": "854334a2",
   "metadata": {},
   "source": [
    "Кэшируем logs_df для дальнейшего анализа:"
   ]
  },
  {
   "cell_type": "code",
   "execution_count": 18,
   "id": "a07d1c7b",
   "metadata": {},
   "outputs": [
    {
     "data": {
      "text/plain": [
       "DataFrame[host: string, timestamp: string, method: string, endpoint: string, protocol: string, status: int, user_agent_top: string, user_agent_end: string]"
      ]
     },
     "execution_count": 18,
     "metadata": {},
     "output_type": "execute_result"
    }
   ],
   "source": [
    "logs_df.cache()"
   ]
  },
  {
   "cell_type": "markdown",
   "id": "fbb366f3",
   "metadata": {},
   "source": [
    "Приступим к проведению анализа и построению витрины:\n",
    "- Суррогатный ключ устройства\n",
    "\n",
    "- Название устройства\n",
    "\n",
    "- Количество пользователей\n",
    "\n",
    "- Доля пользователей данного устройства от общего числа пользователей\n",
    "\n",
    "- Количество совершенных действий для данного устройства\n",
    "\n",
    "- Доля совершенных действий с данного устройства относительно других устройств\n",
    "\n",
    "- Список из 5 самых популярных браузеров, используемых на данном устройстве различными пользователями, с указанием доли использования для данного браузера относительно остальных браузеров \n",
    "\n",
    "- Количество ответов сервера, отличных от 200 на данном устройстве\n",
    "\n",
    "- Для каждого из ответов сервера, отличных от 200, сформировать поле, в котором будет содержаться количество ответов данного типа"
   ]
  },
  {
   "cell_type": "markdown",
   "id": "235fadcc",
   "metadata": {},
   "source": [
    "Нам необходимо дополнительно проставить флаг или признак устройства."
   ]
  },
  {
   "cell_type": "code",
   "execution_count": 22,
   "id": "dc572e4a",
   "metadata": {},
   "outputs": [],
   "source": [
    "@F.udf\n",
    "def determine (x):            # объявим пользовательскую функцию для определения устройства\n",
    "    if 'Android' in str(x): \n",
    "        return 'Android'\n",
    "    if 'iPhone' in str(x):\n",
    "        return 'iPhone'\n",
    "    if 'iPad' in str(x):\n",
    "        return 'iPad'\n",
    "    if 'iPod' in str(x):\n",
    "        return 'iPod'\n",
    "    else:\n",
    "        return 'Desctop'                # и протестируем строку \n",
    "    "
   ]
  },
  {
   "cell_type": "code",
   "execution_count": 23,
   "id": "5697a432",
   "metadata": {},
   "outputs": [
    {
     "data": {
      "text/plain": [
       "'iPod'"
      ]
     },
     "execution_count": 23,
     "metadata": {},
     "output_type": "execute_result"
    }
   ],
   "source": [
    "determine(\"LinuxMozilla/5.0 (Linux; iPod; ALE-L21 Build/HuaweiALE-L21) AppleWebKit/537.36 (KHTML, like Gecko) Chrome/66.0.3359.158 Mobile Safari/537.36\")"
   ]
  },
  {
   "cell_type": "code",
   "execution_count": null,
   "id": "5015cca6",
   "metadata": {},
   "outputs": [],
   "source": [
    "sample = logs_df.toPandas().loc[0:5, ['host', 'method','status','user_agent_end']]\n",
    "sample"
   ]
  },
  {
   "cell_type": "code",
   "execution_count": null,
   "id": "1e85356f",
   "metadata": {},
   "outputs": [],
   "source": [
    "logs_df=logs_df.withColumn(\"Device\", lit(determine(F.col(\"user_agent_end\"))))\\\n",
    "         .show(3)                                  # применим функцию и создадим новый столбец с устройством"
   ]
  },
  {
   "cell_type": "code",
   "execution_count": null,
   "id": "d8d63bec",
   "metadata": {},
   "outputs": [],
   "source": []
  },
  {
   "cell_type": "code",
   "execution_count": 1,
   "id": "258ee208",
   "metadata": {},
   "outputs": [
    {
     "ename": "NameError",
     "evalue": "name 'logs_df' is not defined",
     "output_type": "error",
     "traceback": [
      "\u001b[1;31m---------------------------------------------------------------------------\u001b[0m",
      "\u001b[1;31mNameError\u001b[0m                                 Traceback (most recent call last)",
      "Cell \u001b[1;32mIn[1], line 1\u001b[0m\n\u001b[1;32m----> 1\u001b[0m sample \u001b[38;5;241m=\u001b[39m logs_df\u001b[38;5;241m.\u001b[39miloc[[\u001b[38;5;241m0\u001b[39m, \u001b[38;5;241m25\u001b[39m, \u001b[38;5;241m100\u001b[39m, \u001b[38;5;241m159\u001b[39m, \u001b[38;5;241m300\u001b[39m]]\n",
      "\u001b[1;31mNameError\u001b[0m: name 'logs_df' is not defined"
     ]
    }
   ],
   "source": [
    "sample = logs_df.iloc[[0, 25, 100, 159, 300]]"
   ]
  },
  {
   "cell_type": "code",
   "execution_count": null,
   "id": "faf282db",
   "metadata": {},
   "outputs": [],
   "source": []
  },
  {
   "cell_type": "code",
   "execution_count": null,
   "id": "cebd6992",
   "metadata": {},
   "outputs": [],
   "source": []
  },
  {
   "cell_type": "markdown",
   "id": "70a3adc3",
   "metadata": {},
   "source": [
    "Количество пользователей - это количество уникальных хостов:"
   ]
  },
  {
   "cell_type": "code",
   "execution_count": 17,
   "id": "9d1a5bd8",
   "metadata": {},
   "outputs": [
    {
     "name": "stdout",
     "output_type": "stream",
     "text": [
      "+--------------------+\n",
      "|count(DISTINCT host)|\n",
      "+--------------------+\n",
      "|              258606|\n",
      "+--------------------+\n",
      "\n"
     ]
    }
   ],
   "source": [
    "total_cust = logs_df.select(count_distinct(\"host\")).show()"
   ]
  },
  {
   "cell_type": "markdown",
   "id": "657ac788",
   "metadata": {},
   "source": [
    "Количество пользователей устройства - это пользователи, сгруппированные по устройству:"
   ]
  },
  {
   "cell_type": "code",
   "execution_count": null,
   "id": "4763d57b",
   "metadata": {},
   "outputs": [],
   "source": [
    "device_users=logs_df.select('host').groupby('Device').count().sort('count', ascending=False).show()"
   ]
  },
  {
   "cell_type": "markdown",
   "id": "b5d90819",
   "metadata": {},
   "source": [
    "Количество совершенных действий для данного устройства - это группировка по колонке и подсчет методов (GET, POST):"
   ]
  },
  {
   "cell_type": "code",
   "execution_count": null,
   "id": "24962528",
   "metadata": {},
   "outputs": [],
   "source": [
    "device_actions=logs_df.select('method').groupby('Device').count().show()"
   ]
  },
  {
   "cell_type": "markdown",
   "id": "c95c8354",
   "metadata": {},
   "source": [
    "Всего действий - это подсчет значений колонки методов:"
   ]
  },
  {
   "cell_type": "code",
   "execution_count": null,
   "id": "74478122",
   "metadata": {},
   "outputs": [],
   "source": [
    "total_actions = logs_df.select('method').count().show()"
   ]
  },
  {
   "cell_type": "markdown",
   "id": "e1c4babe",
   "metadata": {},
   "source": [
    "Доля совершенных действий с данного устройства относительно других устройств - это "
   ]
  },
  {
   "cell_type": "code",
   "execution_count": null,
   "id": "7a9265e8",
   "metadata": {},
   "outputs": [],
   "source": []
  },
  {
   "cell_type": "markdown",
   "id": "349348db",
   "metadata": {},
   "source": [
    "Список из 5 самых популярных браузеров, используемых на данном устройстве различными пользователями, с указанием доли использования для данного браузера относительно остальных браузеров - это "
   ]
  },
  {
   "cell_type": "code",
   "execution_count": null,
   "id": "985d97a0",
   "metadata": {},
   "outputs": [],
   "source": []
  },
  {
   "cell_type": "code",
   "execution_count": null,
   "id": "d434fd94",
   "metadata": {},
   "outputs": [],
   "source": [
    "total_status=logs_df.groupBy('status').count().sort('status', ascending=False).show() "
   ]
  },
  {
   "cell_type": "code",
   "execution_count": null,
   "id": "51d62773",
   "metadata": {},
   "outputs": [],
   "source": []
  },
  {
   "cell_type": "markdown",
   "id": "46d89d71",
   "metadata": {},
   "source": [
    "Количество ответов сервера, отличных от 200 на данном устройстве:"
   ]
  },
  {
   "cell_type": "code",
   "execution_count": null,
   "id": "aa249103",
   "metadata": {},
   "outputs": [],
   "source": []
  },
  {
   "cell_type": "markdown",
   "id": "b1d4945c",
   "metadata": {},
   "source": [
    "Для каждого из ответов сервера, отличных от 200, сформировать поле, в котором будет содержаться количество ответов данного типа:"
   ]
  },
  {
   "cell_type": "code",
   "execution_count": null,
   "id": "3d168d00",
   "metadata": {},
   "outputs": [],
   "source": []
  },
  {
   "cell_type": "code",
   "execution_count": null,
   "id": "0780c564",
   "metadata": {},
   "outputs": [],
   "source": []
  },
  {
   "cell_type": "code",
   "execution_count": null,
   "id": "6d1a0322",
   "metadata": {},
   "outputs": [],
   "source": []
  },
  {
   "cell_type": "code",
   "execution_count": null,
   "id": "cda010cf",
   "metadata": {},
   "outputs": [],
   "source": [
    "db_con = psycopg2.connect(database='testdb',     # создадим подключение к созданной базе данных exrate\n",
    "                        user='postgres',\n",
    "                        password='pass',\n",
    "                        host='localhost',\n",
    "                        port=5435)\n",
    "cur = db_con.cursor()"
   ]
  },
  {
   "cell_type": "code",
   "execution_count": null,
   "id": "0a3ebcaa",
   "metadata": {},
   "outputs": [],
   "source": [
    "cur.execute(\"\"\" CREATE TABLE btc_Jan2023(\n",
    "    id SERIAL PRIMARY KEY,\n",
    "    date DATE,\n",
    "    val_id VARCHAR,\n",
    "    base_rate DECIMAL,\n",
    "    val_base VARCHAR\n",
    ")\n",
    "\"\"\") \n",
    "db_con.commit()        "
   ]
  },
  {
   "cell_type": "code",
   "execution_count": null,
   "id": "8834e4ad",
   "metadata": {},
   "outputs": [],
   "source": []
  },
  {
   "cell_type": "code",
   "execution_count": null,
   "id": "8dfd0b05",
   "metadata": {},
   "outputs": [],
   "source": [
    "cur.close()\n",
    "db_con.close()"
   ]
  }
 ],
 "metadata": {
  "kernelspec": {
   "display_name": "Python 3 (ipykernel)",
   "language": "python",
   "name": "python3"
  },
  "language_info": {
   "codemirror_mode": {
    "name": "ipython",
    "version": 3
   },
   "file_extension": ".py",
   "mimetype": "text/x-python",
   "name": "python",
   "nbconvert_exporter": "python",
   "pygments_lexer": "ipython3",
   "version": "3.11.4"
  }
 },
 "nbformat": 4,
 "nbformat_minor": 5
}
