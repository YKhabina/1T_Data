{
 "cells": [
  {
   "cell_type": "markdown",
   "id": "fafab61d",
   "metadata": {},
   "source": [
    "__Общая задача:__ создать скрипт для формирования витрины на основе логов web-сайта."
   ]
  },
  {
   "cell_type": "code",
   "execution_count": 1,
   "id": "4ceac194",
   "metadata": {},
   "outputs": [],
   "source": [
    "import pandas as pd        # импортируем необходимые библиотеки\n",
    "import numpy as np\n",
    "import psycopg2\n",
    "from datetime import datetime\n",
    "import re\n",
    "import httpagentparser\n",
    "import csv"
   ]
  },
  {
   "cell_type": "code",
   "execution_count": 42,
   "id": "c60b82f3",
   "metadata": {},
   "outputs": [],
   "source": [
    "# все что нужно для спарка\n",
    "from pyspark.sql import SparkSession\n",
    "from pyspark.sql import Window\n",
    "from pyspark.sql.functions import *\n",
    "import pyspark.sql.functions as F\n",
    "from pyspark.sql.functions import regexp_extract \n",
    "from pyspark.sql.functions import lit\n",
    "from pyspark.sql.functions import col"
   ]
  },
  {
   "cell_type": "code",
   "execution_count": 3,
   "id": "1f856d6b",
   "metadata": {},
   "outputs": [],
   "source": [
    "# создаем спарк-сессию\n",
    "spark = SparkSession.builder \\\n",
    "  .master(\"local[1]\") \\\n",
    "  .appName(\"SparkFirst\") \\\n",
    "  .appName(\"Timeout Troubleshooting\") \\\n",
    "  .config(\"spark.executor.memory\", \"10g\")\\\n",
    "  .config(\"spark.executor.cores\", 5) \\\n",
    "  .config(\"spark.dynamicAllocation.enabled\", \"true\") \\\n",
    "  .config(\"spark.dynamicAllocation.maxExecutors\", 5) \\\n",
    "  .config(\"spark.network.timeout\", \"600s\") \\\n",
    "  .config(\"spark.shuffle.service.enabled\", \"true\") \\\n",
    "  .getOrCreate()"
   ]
  },
  {
   "cell_type": "markdown",
   "id": "04dc0bdf",
   "metadata": {},
   "source": [
    "Так как исходный файл очень большой, и мощности моего компьютера не хватает для того, чтобы обсчитать его полностью, я разделила его на 4 файла. Отработаем алгоритм для одного"
   ]
  },
  {
   "cell_type": "code",
   "execution_count": 4,
   "id": "3a33a21c",
   "metadata": {},
   "outputs": [
    {
     "name": "stdout",
     "output_type": "stream",
     "text": [
      "root\n",
      " |-- value: string (nullable = true)\n",
      "\n"
     ]
    }
   ],
   "source": [
    "base_df = spark.read.text('access_4_1_1.log')\n",
    "base_df.printSchema()"
   ]
  },
  {
   "cell_type": "code",
   "execution_count": 5,
   "id": "79ffb471",
   "metadata": {},
   "outputs": [
    {
     "name": "stdout",
     "output_type": "stream",
     "text": [
      "+---------------------------------------------------------------------------------------------------------------------------------------------------------------------------------------------------------------------------------------------------------------------------------------------+\n",
      "|value                                                                                                                                                                                                                                                                                        |\n",
      "+---------------------------------------------------------------------------------------------------------------------------------------------------------------------------------------------------------------------------------------------------------------------------------------------+\n",
      "|46.62.164.96 - - [26/Jan/2019:11:43:01 +0330] \"GET /image/656/brand HTTP/1.1\" 200 2222 \"https://www.zanbil.ir/browse/home-appliances/%D9%84%D9%88%D8%A7%D8%B2%D9%85-%D8%AE%D8%A7%D9%86%DA%AF%DB%8C\" \"Mozilla/5.0 (compatible; MSIE 9.0; Windows NT 6.1; WOW64; Trident/5.0)\" \"-\"             |\n",
      "|79.127.88.215 - - [26/Jan/2019:11:43:01 +0330] \"GET /image/10069/productModel/100x100 HTTP/1.1\" 200 2026 \"https://www.zanbil.ir/browse/home-appliances/%D9%84%D9%88%D8%A7%D8%B2%D9%85-%D8%AE%D8%A7%D9%86%DA%AF%DB%8C\" \"Mozilla/5.0 (Windows NT 6.1; rv:64.0) Gecko/20100101 Firefox/64.0\" \"-\"|\n",
      "|79.127.88.215 - - [26/Jan/2019:11:43:01 +0330] \"GET /image/1539/productModel/100x100 HTTP/1.1\" 200 2269 \"https://www.zanbil.ir/browse/home-appliances/%D9%84%D9%88%D8%A7%D8%B2%D9%85-%D8%AE%D8%A7%D9%86%DA%AF%DB%8C\" \"Mozilla/5.0 (Windows NT 6.1; rv:64.0) Gecko/20100101 Firefox/64.0\" \"-\" |\n",
      "+---------------------------------------------------------------------------------------------------------------------------------------------------------------------------------------------------------------------------------------------------------------------------------------------+\n",
      "only showing top 3 rows\n",
      "\n"
     ]
    }
   ],
   "source": [
    "base_df.show(3, truncate=False)\n"
   ]
  },
  {
   "cell_type": "code",
   "execution_count": 6,
   "id": "09be15fc",
   "metadata": {},
   "outputs": [
    {
     "data": {
      "text/plain": [
       "0"
      ]
     },
     "execution_count": 6,
     "metadata": {},
     "output_type": "execute_result"
    }
   ],
   "source": [
    "(base_df.filter(base_df['value'].isNull()).count()) # проверим есть ли нулевые строки в исходном датафрейме"
   ]
  },
  {
   "cell_type": "markdown",
   "id": "bd6117f8",
   "metadata": {},
   "source": [
    "При помощи регулярных выражений спарсим необходимые данные. Из лога я взяла не все данные, только хост, метод, протокол, статус и самое главное строку с User agent-информацией."
   ]
  },
  {
   "cell_type": "code",
   "execution_count": 7,
   "id": "5dfea2b7",
   "metadata": {},
   "outputs": [],
   "source": [
    "host_pattern = r'(^\\S+\\.[\\S+\\.]+\\S+)\\s'              #регулярное выражение для хоста"
   ]
  },
  {
   "cell_type": "code",
   "execution_count": 8,
   "id": "dd4f9172",
   "metadata": {},
   "outputs": [],
   "source": [
    "method_uri_protocol_pattern = r'\\\"(\\S+) (.*?) (\\S+)\\\"'     #регулярное выражение для метода"
   ]
  },
  {
   "cell_type": "code",
   "execution_count": 9,
   "id": "dcca7a75",
   "metadata": {},
   "outputs": [],
   "source": [
    "status_pattern = r'\\s(\\d{3})\\s'                     #регулярное выражение для ответа"
   ]
  },
  {
   "cell_type": "code",
   "execution_count": 10,
   "id": "89fa0f42",
   "metadata": {},
   "outputs": [],
   "source": [
    "user_agent_top=r'\\S+\\S+\\\".\\\"([^\\(]+)\\((.*)\\)'      #регулярное выражение для начала UA-строки\n",
    "          #мы его использовать в итоговой таблице не будем так, как оно для всех одинаковое и не несет полезной информации"
   ]
  },
  {
   "cell_type": "code",
   "execution_count": 11,
   "id": "6b386da4",
   "metadata": {},
   "outputs": [],
   "source": [
    "user_agent_end=r'\\((.*) '                       #регулярнео выражение для окончания UA-строки"
   ]
  },
  {
   "cell_type": "code",
   "execution_count": 12,
   "id": "6491902b",
   "metadata": {},
   "outputs": [
    {
     "name": "stdout",
     "output_type": "stream",
     "text": [
      "+-------------+------+------+--------------------+\n",
      "|         host|method|status|      user_agent_end|\n",
      "+-------------+------+------+--------------------+\n",
      "| 46.62.164.96|   GET|   200|compatible; MSIE ...|\n",
      "|79.127.88.215|   GET|   200|Windows NT 6.1; r...|\n",
      "|79.127.88.215|   GET|   200|Windows NT 6.1; r...|\n",
      "|79.127.88.215|   GET|   200|Windows NT 6.1; r...|\n",
      "| 46.62.164.96|   GET|   200|compatible; MSIE ...|\n",
      "|79.127.88.215|   GET|   200|Windows NT 6.1; r...|\n",
      "| 46.62.164.96|   GET|   200|compatible; MSIE ...|\n",
      "|79.127.88.215|   GET|   200|Windows NT 6.1; r...|\n",
      "|104.222.32.91|   GET|   200|code:%20obj[\\x5C%...|\n",
      "| 46.62.164.96|   GET|   200|compatible; MSIE ...|\n",
      "+-------------+------+------+--------------------+\n",
      "only showing top 10 rows\n",
      "\n",
      "(50000, 4)\n"
     ]
    }
   ],
   "source": [
    "logs_df = base_df.select(regexp_extract('value', host_pattern, 1).alias('host'),           # теперь объединяем все вместе\n",
    "                         regexp_extract('value', method_uri_protocol_pattern, 1).alias('method'),\n",
    "                         regexp_extract('value', status_pattern, 1).cast('integer').alias('status'),\n",
    "                         regexp_extract('value', user_agent_end, 1).alias('user_agent_end'))\n",
    "logs_df.show(10, truncate=True)\n",
    "print((logs_df.count(), len(logs_df.columns)))"
   ]
  },
  {
   "cell_type": "markdown",
   "id": "c60a9832",
   "metadata": {},
   "source": [
    "Проверим схему нашего датафрейма."
   ]
  },
  {
   "cell_type": "code",
   "execution_count": 13,
   "id": "4f2ee7c6",
   "metadata": {},
   "outputs": [
    {
     "name": "stdout",
     "output_type": "stream",
     "text": [
      "root\n",
      " |-- host: string (nullable = true)\n",
      " |-- method: string (nullable = true)\n",
      " |-- status: integer (nullable = true)\n",
      " |-- user_agent_end: string (nullable = true)\n",
      "\n"
     ]
    }
   ],
   "source": [
    "logs_df.printSchema()"
   ]
  },
  {
   "cell_type": "code",
   "execution_count": 14,
   "id": "c2072f64",
   "metadata": {},
   "outputs": [
    {
     "data": {
      "text/plain": [
       "0"
      ]
     },
     "execution_count": 14,
     "metadata": {},
     "output_type": "execute_result"
    }
   ],
   "source": [
    "bad_rows_df = logs_df.filter(logs_df['host'].isNull()| \n",
    "                            logs_df['method'].isNull() |\n",
    "                            logs_df['status'].isNull() |\n",
    "                            logs_df['user_agent_end'].isNull())                    \n",
    "bad_rows_df.count()   #пустых строчек нет, это хорошо!"
   ]
  },
  {
   "cell_type": "markdown",
   "id": "854334a2",
   "metadata": {},
   "source": []
  },
  {
   "cell_type": "markdown",
   "id": "fbb366f3",
   "metadata": {},
   "source": [
    "Приступим к проведению анализа и построению витрины:\n",
    "- Суррогатный ключ устройства\n",
    "\n",
    "- Название устройства\n",
    "\n",
    "- Количество пользователей\n",
    "\n",
    "- Доля пользователей данного устройства от общего числа пользователей\n",
    "\n",
    "- Количество совершенных действий для данного устройства\n",
    "\n",
    "- Доля совершенных действий с данного устройства относительно других устройств\n",
    "\n",
    "- Список из 5 самых популярных браузеров, используемых на данном устройстве различными пользователями, с указанием доли использования для данного браузера относительно остальных браузеров \n",
    "\n",
    "- Количество ответов сервера, отличных от 200 на данном устройстве\n",
    "\n",
    "- Для каждого из ответов сервера, отличных от 200, сформировать поле, в котором будет содержаться количество ответов данного типа"
   ]
  },
  {
   "cell_type": "markdown",
   "id": "235fadcc",
   "metadata": {},
   "source": [
    "Для определения устройства и браузера воспользуемся готовым парсером (https://pypi.org/project/httpagentparser/#description) (импортировали его вначале):\n",
    "\n",
    "Метод httpagentparser.detect(s) дает ответ вида (пример) {'platform': {'name': 'Android', 'version': '6.0'}, 'os': {'name': 'Linux'}, 'bot': False, 'dist': {'name': 'Android', 'version': '6.0'}, 'browser': {'name': 'Chrome', 'version': '66.0.3359.158'}}"
   ]
  },
  {
   "cell_type": "code",
   "execution_count": 15,
   "id": "b7b42167",
   "metadata": {},
   "outputs": [
    {
     "name": "stdout",
     "output_type": "stream",
     "text": [
      "Платформа Android ,браузер Chrome\n"
     ]
    }
   ],
   "source": [
    "#тестовая строка\n",
    "s='Linux; Android 6.0; ALE-L21 Build/HuaweiALE-L21) AppleWebKit/537.36 (KHTML, like Gecko) Chrome/66.0.3359.158 Mobile Safari/537.36'\n",
    "y=httpagentparser.detect(s)\n",
    "print('Платформа',y['platform']['name'],',браузер', y['browser']['name'])\n"
   ]
  },
  {
   "cell_type": "code",
   "execution_count": 16,
   "id": "98ca9047",
   "metadata": {},
   "outputs": [],
   "source": [
    "#@F.udf                 # создадим пользовательскую функцию на основе парсера, которая возвращает название платформы\n",
    "def device_def(x):\n",
    "    try:\n",
    "        y= httpagentparser.detect(x)\n",
    "        if 'platform' in y:\n",
    "            return f\"{y['platform']['name']}\"\n",
    "        else:\n",
    "            return 'No platform' \n",
    "    except:\n",
    "        return 'Error'"
   ]
  },
  {
   "cell_type": "code",
   "execution_count": 17,
   "id": "842cc4bb",
   "metadata": {},
   "outputs": [
    {
     "data": {
      "text/plain": [
       "'Android'"
      ]
     },
     "execution_count": 17,
     "metadata": {},
     "output_type": "execute_result"
    }
   ],
   "source": [
    "device_def(\"Mozilla/5.0 (Linux; Android 6.0; ALE-L21 Build/HuaweiALE-L21) AppleWebKit/537.36 \\\n",
    "           (KHTML, like Gecko) Chrome/66.0.3359.158 Mobile Safari/537.36\")"
   ]
  },
  {
   "cell_type": "code",
   "execution_count": 18,
   "id": "53711cc1",
   "metadata": {},
   "outputs": [],
   "source": [
    "#@F.udf                 # создадим пользовательскую функцию на основе парсера, которая возвращает название браузера\n",
    "def browser_def(x):\n",
    "    try:\n",
    "        y= httpagentparser.detect(x)\n",
    "        if 'browser' in y:\n",
    "            return f\"{y['browser']['name']}\"\n",
    "        else:\n",
    "            return 'No browser' \n",
    "    except:\n",
    "        return 'Error'"
   ]
  },
  {
   "cell_type": "code",
   "execution_count": 19,
   "id": "ff338edf",
   "metadata": {},
   "outputs": [
    {
     "data": {
      "text/plain": [
       "'Chrome'"
      ]
     },
     "execution_count": 19,
     "metadata": {},
     "output_type": "execute_result"
    }
   ],
   "source": [
    "browser_def(\"Mozilla/5.0 (Linux; Android 6.0; ALE-L21 Build/HuaweiALE-L21) AppleWebKit/537.36 \\\n",
    "           (KHTML, like Gecko) Chrome/66.0.3359.158 Mobile Safari/537.36\")"
   ]
  },
  {
   "cell_type": "code",
   "execution_count": 20,
   "id": "872bb5de",
   "metadata": {},
   "outputs": [],
   "source": [
    "#logs_df = logs_df.withColumn('platform', device_def(F.col('user_agent_end')))   # Я НЕ СМОГЛА РАЗОБРАТЬСЯ И ПОНЯТЬ \n",
    "#logs_df = logs_df.withColumn('browser', browser_def(F.col('user_agent_end')))    #  И ПОНЯТЬ ПОЧЕМУ ЭТО НЕ РАБОТАЕТ какие то жуткие ошибки\n",
    "#logs_df.show(3) # создадим новый столбец с платформой и браузером        # пришлось искать обходной маневр-костыль"
   ]
  },
  {
   "cell_type": "code",
   "execution_count": 21,
   "id": "f778a747",
   "metadata": {},
   "outputs": [],
   "source": [
    " count = 0                      # делаем костыльное решение для получения колонки с браузером\n",
    "res = []\n",
    "keys = []\n",
    "\n",
    "for row in logs_df.toLocalIterator():\n",
    "    count += 1\n",
    "    row_dict = row.asDict()\n",
    "    row_dict['browser'] = browser_def(row_dict['user_agent_end'])\n",
    "    res.append(row_dict)\n",
    "\n",
    "    if count == 1:\n",
    "        keys = res[0].keys()\n",
    "        with open('log_browser.csv', 'w', newline='') as output_file:\n",
    "            dict_writer = csv.DictWriter(output_file, keys)\n",
    "            dict_writer.writeheader()\n",
    "            \n",
    "    if count % 500000 == 0:\n",
    "        print(count)\n",
    "        with open('log_browser.csv', 'a', newline='') as output_file:\n",
    "            dict_writer = csv.DictWriter(output_file, keys)\n",
    "            dict_writer.writerows(res)\n",
    "            del res\n",
    "            res = []\n",
    "\n",
    "with open('log_browser.csv', 'a', newline='') as output_file:\n",
    "            dict_writer = csv.DictWriter(output_file, keys)\n",
    "            dict_writer.writerows(res)\n",
    "del res"
   ]
  },
  {
   "cell_type": "code",
   "execution_count": 22,
   "id": "f2797201",
   "metadata": {},
   "outputs": [
    {
     "name": "stdout",
     "output_type": "stream",
     "text": [
      "+-------------+------+------+--------------------+--------------------+\n",
      "|         host|method|status|      user_agent_end|             browser|\n",
      "+-------------+------+------+--------------------+--------------------+\n",
      "| 46.62.164.96|   GET|   200|compatible; MSIE ...|Microsoft Interne...|\n",
      "|79.127.88.215|   GET|   200|Windows NT 6.1; r...|             Firefox|\n",
      "|79.127.88.215|   GET|   200|Windows NT 6.1; r...|             Firefox|\n",
      "+-------------+------+------+--------------------+--------------------+\n",
      "only showing top 3 rows\n",
      "\n"
     ]
    }
   ],
   "source": [
    "log_browser = spark.read.csv('log_browser.csv', header=True, sep=',') # проверяем что все нормально записалось\n",
    "log_browser.show(3)"
   ]
  },
  {
   "cell_type": "code",
   "execution_count": 23,
   "id": "7bdfd999",
   "metadata": {},
   "outputs": [],
   "source": [
    "log_browser=log_browser.drop('method').drop('status').drop('user_agent_end') # оставим только хост и браузер"
   ]
  },
  {
   "cell_type": "code",
   "execution_count": 24,
   "id": "40ce8186",
   "metadata": {},
   "outputs": [],
   "source": [
    "count = 0                      # делаем аналогично для платформы\n",
    "res = []\n",
    "keys = []\n",
    "\n",
    "for row in logs_df.toLocalIterator():\n",
    "    count += 1\n",
    "    row_dict = row.asDict()\n",
    "    row_dict['platform'] = device_def(row_dict['user_agent_end'])\n",
    "    res.append(row_dict)\n",
    "\n",
    "    if count == 1:\n",
    "        keys = res[0].keys()\n",
    "        with open('log_platform.csv', 'w', newline='') as output_file:\n",
    "            dict_writer = csv.DictWriter(output_file, keys)\n",
    "            dict_writer.writeheader()\n",
    "            \n",
    "    if count % 500000 == 0:\n",
    "        print(count)\n",
    "        with open('log_platform.csv', 'a', newline='') as output_file:\n",
    "            dict_writer = csv.DictWriter(output_file, keys)\n",
    "            dict_writer.writerows(res)\n",
    "            del res\n",
    "            res = []\n",
    "\n",
    "with open('log_platform.csv', 'a', newline='') as output_file:\n",
    "            dict_writer = csv.DictWriter(output_file, keys)\n",
    "            dict_writer.writerows(res)\n",
    "del res"
   ]
  },
  {
   "cell_type": "code",
   "execution_count": 25,
   "id": "2583c20b",
   "metadata": {},
   "outputs": [
    {
     "name": "stdout",
     "output_type": "stream",
     "text": [
      "+-------------+------+------+--------------------+--------+\n",
      "|         host|method|status|      user_agent_end|platform|\n",
      "+-------------+------+------+--------------------+--------+\n",
      "| 46.62.164.96|   GET|   200|compatible; MSIE ...| Windows|\n",
      "|79.127.88.215|   GET|   200|Windows NT 6.1; r...| Windows|\n",
      "|79.127.88.215|   GET|   200|Windows NT 6.1; r...| Windows|\n",
      "+-------------+------+------+--------------------+--------+\n",
      "only showing top 3 rows\n",
      "\n"
     ]
    }
   ],
   "source": [
    "log_platform = spark.read.csv('log_platform.csv', header=True, sep=',') # проверяем что все нормально записалось\n",
    "log_platform.show(3)"
   ]
  },
  {
   "cell_type": "code",
   "execution_count": 26,
   "id": "e2931fe8",
   "metadata": {},
   "outputs": [
    {
     "name": "stdout",
     "output_type": "stream",
     "text": [
      "+------------+------+------+--------+--------------------+\n",
      "|        host|method|status|platform|             browser|\n",
      "+------------+------+------+--------+--------------------+\n",
      "|46.62.164.96|   GET|   200| Windows|Microsoft Interne...|\n",
      "|46.62.164.96|   GET|   200| Windows|Microsoft Interne...|\n",
      "|46.62.164.96|   GET|   200| Windows|Microsoft Interne...|\n",
      "+------------+------+------+--------+--------------------+\n",
      "only showing top 3 rows\n",
      "\n"
     ]
    }
   ],
   "source": [
    "df_new = log_platform.join(log_browser, 'host', how = 'inner').drop('user_agent_end') # колонку user_agent_end можем удалить\n",
    "df_new.show(3)           #теперь наконец-то  у нас есть все для анализа! Уррра!"
   ]
  },
  {
   "cell_type": "markdown",
   "id": "f7c63a1a",
   "metadata": {},
   "source": [
    "Кэшируем df_new для дальнейшего анализа:"
   ]
  },
  {
   "cell_type": "code",
   "execution_count": 27,
   "id": "51109c22",
   "metadata": {},
   "outputs": [
    {
     "data": {
      "text/plain": [
       "DataFrame[host: string, method: string, status: string, platform: string, browser: string]"
      ]
     },
     "execution_count": 27,
     "metadata": {},
     "output_type": "execute_result"
    }
   ],
   "source": [
    "df_new.cache()"
   ]
  },
  {
   "cell_type": "code",
   "execution_count": 28,
   "id": "97d4b8df",
   "metadata": {},
   "outputs": [
    {
     "name": "stdout",
     "output_type": "stream",
     "text": [
      "root\n",
      " |-- host: string (nullable = true)\n",
      " |-- method: string (nullable = true)\n",
      " |-- status: string (nullable = true)\n",
      " |-- platform: string (nullable = true)\n",
      " |-- browser: string (nullable = true)\n",
      "\n"
     ]
    }
   ],
   "source": [
    "df_new.printSchema()"
   ]
  },
  {
   "cell_type": "markdown",
   "id": "06a7b628",
   "metadata": {},
   "source": [
    "Уберем записи,где нам не удалось определить платформу "
   ]
  },
  {
   "cell_type": "code",
   "execution_count": 51,
   "id": "6cfce08d",
   "metadata": {},
   "outputs": [],
   "source": [
    "df_p = df_new.filter(df_new.platform != 'None')  "
   ]
  },
  {
   "cell_type": "code",
   "execution_count": 52,
   "id": "aea7e4aa",
   "metadata": {},
   "outputs": [],
   "source": [
    "clean_df = df_p.filter(df_new.browser != 'No browser') # убираем те записи, где не удалось определить браузер"
   ]
  },
  {
   "cell_type": "code",
   "execution_count": 53,
   "id": "b978f637",
   "metadata": {},
   "outputs": [
    {
     "data": {
      "text/plain": [
       "DataFrame[host: string, method: string, status: string, platform: string, browser: string]"
      ]
     },
     "execution_count": 53,
     "metadata": {},
     "output_type": "execute_result"
    }
   ],
   "source": [
    "clean_df.cache()"
   ]
  },
  {
   "cell_type": "markdown",
   "id": "854bf922",
   "metadata": {},
   "source": [
    "Количество пользователей - это количество уникальных хостов:"
   ]
  },
  {
   "cell_type": "code",
   "execution_count": 54,
   "id": "5f9e70d9",
   "metadata": {},
   "outputs": [
    {
     "data": {
      "text/plain": [
       "1355"
      ]
     },
     "execution_count": 54,
     "metadata": {},
     "output_type": "execute_result"
    }
   ],
   "source": [
    "total_users = clean_df.select('host').distinct().count()\n",
    "total_users"
   ]
  },
  {
   "cell_type": "markdown",
   "id": "2c71eb5b",
   "metadata": {},
   "source": [
    "Посмотрим, какие у нас есть типы устройств:"
   ]
  },
  {
   "cell_type": "code",
   "execution_count": 55,
   "id": "27059f87",
   "metadata": {},
   "outputs": [
    {
     "name": "stdout",
     "output_type": "stream",
     "text": [
      "+--------------------+\n",
      "|            platform|\n",
      "+--------------------+\n",
      "|                 iOS|\n",
      "|              Mac OS|\n",
      "| like Gecko) Chro...|\n",
      "| like Gecko) Vers...|\n",
      "|               Linux|\n",
      "| like Gecko) Vers...|\n",
      "| like Gecko) Chro...|\n",
      "| like Gecko) Chro...|\n",
      "| like Gecko) Chro...|\n",
      "| like Gecko) Chro...|\n",
      "|             Android|\n",
      "|             Windows|\n",
      "+--------------------+\n",
      "\n"
     ]
    }
   ],
   "source": [
    "device_name = clean_df.select('platform').distinct().show(13)"
   ]
  },
  {
   "cell_type": "markdown",
   "id": "657ac788",
   "metadata": {},
   "source": [
    "Количество пользователей устройства - это пользователи, сгруппированные по устройству:"
   ]
  },
  {
   "cell_type": "code",
   "execution_count": 56,
   "id": "4763d57b",
   "metadata": {},
   "outputs": [],
   "source": [
    "device_users=clean_df.groupby('platform').agg(count('host').alias('device_users'))                "
   ]
  },
  {
   "cell_type": "markdown",
   "id": "eac1ccbf",
   "metadata": {},
   "source": [
    "Доля пользователей по устройствам:"
   ]
  },
  {
   "cell_type": "code",
   "execution_count": 57,
   "id": "60953ffd",
   "metadata": {},
   "outputs": [
    {
     "name": "stdout",
     "output_type": "stream",
     "text": [
      "+--------------------+------------+-----------------+\n",
      "|            platform|device_users|part_device_users|\n",
      "+--------------------+------------+-----------------+\n",
      "|                 iOS|       67357|            49.71|\n",
      "|              Mac OS|       45879|            33.86|\n",
      "| like Gecko) Chro...|           8|             0.01|\n",
      "+--------------------+------------+-----------------+\n",
      "only showing top 3 rows\n",
      "\n"
     ]
    }
   ],
   "source": [
    "df0 = clean_df.groupby(col('platform')).agg(count('platform').alias('device_users'))\\\n",
    "              .withColumn('part_device_users', round(F.col('device_users')/total_users,2))\n",
    "df0.show(3)"
   ]
  },
  {
   "cell_type": "markdown",
   "id": "b5d90819",
   "metadata": {},
   "source": [
    "Количество совершенных действий для данного устройства - это группировка по платформе и подсчет методов (GET, POST):"
   ]
  },
  {
   "cell_type": "code",
   "execution_count": 58,
   "id": "24962528",
   "metadata": {},
   "outputs": [],
   "source": [
    "device_actions=clean_df.groupby(col('platform')).agg(count('method').alias('device_actions'))"
   ]
  },
  {
   "cell_type": "markdown",
   "id": "c95c8354",
   "metadata": {},
   "source": [
    "Всего действий - это подсчет значений колонки методов:"
   ]
  },
  {
   "cell_type": "code",
   "execution_count": 59,
   "id": "74478122",
   "metadata": {},
   "outputs": [
    {
     "data": {
      "text/plain": [
       "8520329"
      ]
     },
     "execution_count": 59,
     "metadata": {},
     "output_type": "execute_result"
    }
   ],
   "source": [
    "total_actions = clean_df.select('method').count()\n",
    "total_actions"
   ]
  },
  {
   "cell_type": "markdown",
   "id": "e1c4babe",
   "metadata": {},
   "source": [
    "Доля совершенных действий с данного устройства относительно других устройств - это "
   ]
  },
  {
   "cell_type": "code",
   "execution_count": 60,
   "id": "7a9265e8",
   "metadata": {},
   "outputs": [],
   "source": [
    "df1 = clean_df.groupby(col('platform')).agg(count(\"method\").alias(\"device_actions\"))\\\n",
    "        .withColumn('part_device_actions', round(F.col('device_actions')/total_actions,2))"
   ]
  },
  {
   "cell_type": "markdown",
   "id": "894a3bd1",
   "metadata": {},
   "source": [
    "Посмотрим, какие у нас браузеры существуют в этой выборке:"
   ]
  },
  {
   "cell_type": "code",
   "execution_count": 62,
   "id": "ec483afb",
   "metadata": {},
   "outputs": [
    {
     "name": "stdout",
     "output_type": "stream",
     "text": [
      "+--------------------+\n",
      "|             browser|\n",
      "+--------------------+\n",
      "|           GoogleBot|\n",
      "| like Gecko) Chro...|\n",
      "|      Yandex.Browser|\n",
      "|      AndroidBrowser|\n",
      "|             Firefox|\n",
      "| like Gecko) Vers...|\n",
      "|              Safari|\n",
      "| like Gecko) Vers...|\n",
      "| like Gecko) Chro...|\n",
      "|           ChromeiOS|\n",
      "+--------------------+\n",
      "only showing top 10 rows\n",
      "\n"
     ]
    }
   ],
   "source": [
    "browser_name = clean_df.select('browser').distinct().show(10)"
   ]
  },
  {
   "cell_type": "code",
   "execution_count": 63,
   "id": "5b6fbb78",
   "metadata": {},
   "outputs": [],
   "source": [
    "total_browser_cnt = clean_df.select('browser').count() "
   ]
  },
  {
   "cell_type": "code",
   "execution_count": 64,
   "id": "ef7c0d1e",
   "metadata": {},
   "outputs": [],
   "source": [
    "browser_cnt = clean_df.groupby(col('platform')).agg(count('browser').alias('browser_cnt'))"
   ]
  },
  {
   "cell_type": "markdown",
   "id": "349348db",
   "metadata": {},
   "source": [
    "Доля использования для данного браузера относительно остальных браузеров - это "
   ]
  },
  {
   "cell_type": "code",
   "execution_count": 68,
   "id": "985d97a0",
   "metadata": {},
   "outputs": [],
   "source": [
    "df2 = clean_df.groupby(col('platform')).agg(count('browser').alias('browser_cnt'))\\\n",
    "            .withColumn('part_browser', round(F.col('browser_cnt')/total_browser_cnt,2))  "
   ]
  },
  {
   "cell_type": "markdown",
   "id": "1754bdcd",
   "metadata": {},
   "source": [
    "Теперь все объединим и посмотрим промежуточный итог:"
   ]
  },
  {
   "cell_type": "code",
   "execution_count": 69,
   "id": "d29d3364",
   "metadata": {},
   "outputs": [
    {
     "name": "stdout",
     "output_type": "stream",
     "text": [
      "+--------------------+------------+-----------------+--------------+-------------------+-----------+------------+\n",
      "|            platform|device_users|part_device_users|device_actions|part_device_actions|browser_cnt|part_browser|\n",
      "+--------------------+------------+-----------------+--------------+-------------------+-----------+------------+\n",
      "|                 iOS|       67357|            49.71|         67357|               0.01|      67357|        0.01|\n",
      "|              Mac OS|       45879|            33.86|         45879|               0.01|      45879|        0.01|\n",
      "| like Gecko) Chro...|           8|             0.01|             8|                0.0|          8|         0.0|\n",
      "+--------------------+------------+-----------------+--------------+-------------------+-----------+------------+\n",
      "only showing top 3 rows\n",
      "\n"
     ]
    }
   ],
   "source": [
    "df3=df0.join(df1, on='platform', how='left').join(df2, on='platform', how='left').drop('count').drop('method')\n",
    "df3.show(3)"
   ]
  },
  {
   "cell_type": "code",
   "execution_count": 70,
   "id": "d434fd94",
   "metadata": {},
   "outputs": [
    {
     "name": "stdout",
     "output_type": "stream",
     "text": [
      "+------+-------+\n",
      "|status|  count|\n",
      "+------+-------+\n",
      "|   200|7873334|\n",
      "|   408|     69|\n",
      "|   401|   8802|\n",
      "|   302| 326780|\n",
      "|   502|   6241|\n",
      "|   404|  20370|\n",
      "|   403|    592|\n",
      "|   500|    571|\n",
      "|   304| 169986|\n",
      "|   499| 110559|\n",
      "|   301|   3025|\n",
      "+------+-------+\n",
      "\n"
     ]
    }
   ],
   "source": [
    "total_status=clean_df.groupBy('status').count().show()"
   ]
  },
  {
   "cell_type": "markdown",
   "id": "fef6d257",
   "metadata": {},
   "source": [
    "Количество ответов 200:"
   ]
  },
  {
   "cell_type": "code",
   "execution_count": 73,
   "id": "1f6f912d",
   "metadata": {},
   "outputs": [],
   "source": [
    "answers_200 = clean_df.filter(clean_df.status == '200').groupBy(col('platform')).agg(count(\"status\").alias(\"answers_200\"))"
   ]
  },
  {
   "cell_type": "markdown",
   "id": "46d89d71",
   "metadata": {},
   "source": [
    "Количество ответов сервера, отличных от 200 на данном устройстве:"
   ]
  },
  {
   "cell_type": "code",
   "execution_count": 74,
   "id": "aa249103",
   "metadata": {},
   "outputs": [],
   "source": [
    "answers_ne200 = clean_df.filter(clean_df.status != '200').groupBy(col('platform')).agg(count(\"status\").alias(\"answers_ne200\"))"
   ]
  },
  {
   "cell_type": "markdown",
   "id": "b1d4945c",
   "metadata": {},
   "source": [
    "Для каждого из ответов сервера, отличных от 200, сформировать поле, в котором будет содержаться количество ответов данного типа:"
   ]
  },
  {
   "cell_type": "code",
   "execution_count": 75,
   "id": "3d168d00",
   "metadata": {},
   "outputs": [],
   "source": [
    "answers_3XX = clean_df.filter((clean_df.status >= '300') & (df_new.status<'400')).groupby(col('platform')).agg(count(\"status\").alias(\"answers_3XX\"))"
   ]
  },
  {
   "cell_type": "code",
   "execution_count": 76,
   "id": "32e5fa16",
   "metadata": {},
   "outputs": [],
   "source": [
    "answers_4XX = clean_df.filter((clean_df.status >= '400') & (df_new.status<'500')).groupby(col('platform')).agg(count(\"status\").alias(\"answers_4XX\"))"
   ]
  },
  {
   "cell_type": "code",
   "execution_count": 77,
   "id": "f9fdd909",
   "metadata": {},
   "outputs": [],
   "source": [
    "answers_5XX = clean_df.filter(clean_df.status > '500').groupby(col('platform')).agg(count(\"status\").alias(\"answers_5XX\"))"
   ]
  },
  {
   "cell_type": "code",
   "execution_count": 78,
   "id": "0780c564",
   "metadata": {},
   "outputs": [
    {
     "name": "stdout",
     "output_type": "stream",
     "text": [
      "+--------+------------+-----------------+--------------+-------------------+-----------+------------+-----------+-------------+-----------+-----------+-----------+\n",
      "|platform|device_users|part_device_users|device_actions|part_device_actions|browser_cnt|part_browser|answers_200|answers_ne200|answers_3XX|answers_4XX|answers_5XX|\n",
      "+--------+------------+-----------------+--------------+-------------------+-----------+------------+-----------+-------------+-----------+-----------+-----------+\n",
      "|     iOS|       67357|            49.71|         67357|               0.01|      67357|        0.01|      64013|         3344|       1602|       1691|         51|\n",
      "|  Mac OS|       45879|            33.86|         45879|               0.01|      45879|        0.01|      43484|         2395|       1795|        405|        195|\n",
      "+--------+------------+-----------------+--------------+-------------------+-----------+------------+-----------+-------------+-----------+-----------+-----------+\n",
      "only showing top 2 rows\n",
      "\n"
     ]
    }
   ],
   "source": [
    "df_mart = df3.join(answers_200, on ='platform', how='left').join(answers_ne200, on='platform', how='left')\\\n",
    "       .join(answers_3XX, on ='platform', how='left').join(answers_4XX, on ='platform', how='left').join(answers_5XX, on ='platform', how='left')\n",
    "df_mart.show(2)"
   ]
  },
  {
   "cell_type": "markdown",
   "id": "243a40a4",
   "metadata": {},
   "source": [
    "Запишем в файл:\n",
    " "
   ]
  },
  {
   "cell_type": "code",
   "execution_count": 79,
   "id": "01ba8ac0",
   "metadata": {},
   "outputs": [],
   "source": [
    "df_res=df_mart.toPandas()"
   ]
  },
  {
   "cell_type": "code",
   "execution_count": 80,
   "id": "eee34cf0",
   "metadata": {},
   "outputs": [],
   "source": [
    "df_res['id'] = df_res.index + 1"
   ]
  },
  {
   "cell_type": "code",
   "execution_count": 81,
   "id": "d4125b8b",
   "metadata": {},
   "outputs": [],
   "source": [
    "df_res['answers_ne200'] = df_res['answers_ne200'].fillna(0)\n",
    "df_res['answers_3XX'] = df_res['answers_3XX'].fillna(0) \n",
    "df_res['answers_4XX'] = df_res['answers_4XX'].fillna(0) \n",
    "df_res['answers_5XX'] = df_res['answers_5XX'].fillna(0)"
   ]
  },
  {
   "cell_type": "code",
   "execution_count": 82,
   "id": "29e3771e",
   "metadata": {},
   "outputs": [],
   "source": [
    "df_res.to_csv('Log_datamart.csv', index = False)    #сохраним все значения в файл на всякий случай"
   ]
  },
  {
   "cell_type": "markdown",
   "id": "f9e131a4",
   "metadata": {},
   "source": [
    "Запишем в таблицу БД Тестлог (ее создали предварительно)"
   ]
  },
  {
   "cell_type": "code",
   "execution_count": 87,
   "id": "848c4b6b",
   "metadata": {},
   "outputs": [],
   "source": [
    "db_con = psycopg2.connect(database='Log',     # создадим подключение к созданной базе данных exrate\n",
    "                        user='postgres',\n",
    "                        password='1234',\n",
    "                        host='localhost',\n",
    "                        port=5432)\n",
    "cur = db_con.cursor()"
   ]
  },
  {
   "cell_type": "code",
   "execution_count": 84,
   "id": "8a1c8d1c",
   "metadata": {},
   "outputs": [],
   "source": [
    "cur.execute(\"\"\" CREATE TABLE IF NOT EXISTS log_mart(        \n",
    "    platform VARCHAR,\n",
    "    device_users INTEGER,\n",
    "    part_device_users FLOAT,\n",
    "    device_actions INTEGER,\n",
    "    part_device_actions FLOAT,\n",
    "    browser_cnt INTEGER,\n",
    "    part_browser FLOAT,\n",
    "    answers_200 INTEGER,\n",
    "    answers_ne200 DECIMAL,\n",
    "    answers_3XX DECIMAL,\n",
    "    answers_4XX DECIMAL,\n",
    "    answers_5XX DECIMAL,\n",
    "    id SERIAL PRIMARY KEY\n",
    ")\n",
    "\"\"\") \n",
    "db_con.commit()                              # создадим таблицу"
   ]
  },
  {
   "cell_type": "code",
   "execution_count": 85,
   "id": "68890c32",
   "metadata": {},
   "outputs": [],
   "source": [
    "with open('Log_datamart.csv', 'r') as f:\n",
    "    next(f) \n",
    "    cur.copy_from(f, 'log_mart', sep=',')\n",
    "    #Commit Changes\n",
    "    db_con.commit()"
   ]
  },
  {
   "cell_type": "code",
   "execution_count": 88,
   "id": "e3c06715",
   "metadata": {},
   "outputs": [
    {
     "name": "stdout",
     "output_type": "stream",
     "text": [
      "('iOS', 67357, 49.71, 67357, 0.01, 67357, 0.01, 64013, Decimal('3344.0'), Decimal('1602.0'), Decimal('1691.0'), Decimal('51.0'), 1)\n"
     ]
    }
   ],
   "source": [
    "cur.execute(\"\"\"select * from log_mart;\"\"\")            #проверка записи\n",
    "print(cur.fetchone())\n",
    "db_con.commit()"
   ]
  },
  {
   "cell_type": "code",
   "execution_count": 89,
   "id": "f4736196",
   "metadata": {},
   "outputs": [],
   "source": [
    "db_con.close()"
   ]
  },
  {
   "cell_type": "code",
   "execution_count": null,
   "id": "bc479c70",
   "metadata": {},
   "outputs": [],
   "source": []
  }
 ],
 "metadata": {
  "kernelspec": {
   "display_name": "Python 3 (ipykernel)",
   "language": "python",
   "name": "python3"
  },
  "language_info": {
   "codemirror_mode": {
    "name": "ipython",
    "version": 3
   },
   "file_extension": ".py",
   "mimetype": "text/x-python",
   "name": "python",
   "nbconvert_exporter": "python",
   "pygments_lexer": "ipython3",
   "version": "3.11.4"
  }
 },
 "nbformat": 4,
 "nbformat_minor": 5
}
