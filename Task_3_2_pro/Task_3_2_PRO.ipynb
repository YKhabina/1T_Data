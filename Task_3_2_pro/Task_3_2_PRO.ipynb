{
 "cells": [
  {
   "cell_type": "code",
   "execution_count": 238,
   "id": "9549ae72",
   "metadata": {},
   "outputs": [
    {
     "name": "stdout",
     "output_type": "stream",
     "text": [
      "Requirement already satisfied: psycopg2-binary in c:\\users\\jsb24\\anaconda3\\lib\\site-packages (2.9.6)\n",
      "Note: you may need to restart the kernel to use updated packages.\n"
     ]
    }
   ],
   "source": [
    "pip install psycopg2-binary"
   ]
  },
  {
   "cell_type": "markdown",
   "id": "4bfcc671",
   "metadata": {},
   "source": [
    "Задание ПРО (новое)\n",
    "\n",
    "1. Повторите все те же шаги, что и в базовой-версии, но добавьте еще несколько валют для исследования. Для каждой пары \n",
    "валют создайте отдельную таблицу.\n",
    "\n",
    "2. Изменения также коснутся и итоговой таблицы, в который для каждой новой исследуемой пары валют вам необходимо \n",
    "произвести новые расчеты, но на этом шаге они все должны быть в одной таблице.\n",
    "\n",
    "3. Соберите всю логику в отдельное python-приложение и добавьте в docker-compose совместно с сервисом для СУБД Postgres. \n",
    "Учитывайте особенности установки дополнительных модулей языка Python.\n",
    "\n",
    "\n",
    "В качестве результата предоставьте docker-compose файл, который содержит 2 сервиса:\n",
    "\n",
    "    - СУБД Postgres,\n",
    "\n",
    "    - Python-приложение, которое реализует логику из задания.\n",
    "\n",
    " \n",
    "\n",
    "По итогу выполнения всех пунктов задания вам необходимо прислать ссылку на ваш репозиторий.\n",
    "\n",
    " \n",
    "В качестве результата предоставьте python-скрипт, который реализует описанную выше логику."
   ]
  },
  {
   "cell_type": "markdown",
   "id": "ee57aeb8",
   "metadata": {},
   "source": [
    "1. Парсим данные с сайта:"
   ]
  },
  {
   "cell_type": "code",
   "execution_count": 10,
   "id": "b441d0f6",
   "metadata": {},
   "outputs": [],
   "source": [
    "import requests       #для работы с web страницами\n",
    "import pandas as pd   #для работы с датафреймами\n",
    "import psycopg2\n",
    "import json           #для преобразования ответов в структурирвоанный json\n",
    "import numpy as np    #для математических операций\n",
    "from datetime import datetime  #для работы с датами\n",
    "from pathlib import Path"
   ]
  },
  {
   "cell_type": "code",
   "execution_count": 11,
   "id": "ab35cb6c",
   "metadata": {},
   "outputs": [],
   "source": [
    "BASE_URL = 'https://api.exchangerate.host/timeseries?'\n",
    "# URL метода "
   ]
  },
  {
   "cell_type": "code",
   "execution_count": 94,
   "id": "6a6d0980",
   "metadata": {},
   "outputs": [],
   "source": [
    "start_date = '2023-01-01'\n",
    "end_date = '2023-01-31'\n",
    "currency = ['BTC', 'CNY', 'AED'] #добавили еще две валюты юань и дирхам\n",
    "symbols = 'RUB'\n",
    "format = 'CSV'"
   ]
  },
  {
   "cell_type": "code",
   "execution_count": 13,
   "id": "c5eac95e",
   "metadata": {},
   "outputs": [],
   "source": [
    "for base in currency:\n",
    "    response = requests.get(BASE_URL, params={'base': base,\n",
    "                                      'start_date': start_date,\n",
    "                                      'end_date': end_date,\n",
    "                                      'symbols': symbols,\n",
    "                                      'format': format\n",
    "                                })\n",
    "    file = open(f'./files/jan2023_{base}.csv', 'wb')               # создаем отдельные файлы Jan2023_{валюта}.csv\n",
    "    file.write(response.content)\n",
    "    file.close()\n",
    "    "
   ]
  },
  {
   "cell_type": "code",
   "execution_count": 112,
   "id": "44a1c389",
   "metadata": {},
   "outputs": [
    {
     "name": "stdout",
     "output_type": "stream",
     "text": [
      "         date code          rate base  start_date    end_date\n",
      "0  2023-01-01  RUB  1.231483e+06  BTC  2023-01-01  2023-01-31\n",
      "1  2023-01-02  RUB  1.208671e+06  BTC  2023-01-01  2023-01-31\n",
      "         date code       rate base  start_date    end_date\n",
      "0  2023-01-01  RUB  10.683470  CNY  2023-01-01  2023-01-31\n",
      "1  2023-01-02  RUB  10.510794  CNY  2023-01-01  2023-01-31\n",
      "         date code       rate base  start_date    end_date\n",
      "0  2023-01-01  RUB  20.065046  AED  2023-01-01  2023-01-31\n",
      "1  2023-01-02  RUB  19.739792  AED  2023-01-01  2023-01-31\n"
     ]
    }
   ],
   "source": [
    "for base in currency:\n",
    "    df = pd.read_csv(f'./files/jan2023_{base}.csv', delimiter=',', decimal=',', index_col=False)\n",
    "    df = pd.DataFrame(df)\n",
    "    df.to_csv(f'./files/jan2023_{base}.csv', decimal=',', index=False)\n",
    "    print(df.head(2))                                       #убедимся, что все как надо\n",
    "                                            "
   ]
  },
  {
   "cell_type": "code",
   "execution_count": 113,
   "id": "c09f5f39",
   "metadata": {},
   "outputs": [],
   "source": [
    "data_dir = Path('./files/')\n",
    "df1 = pd.concat([pd.read_csv(f) for f in data_dir.glob(\"*.csv\")], ignore_index=True) # соединим все в один файл\n",
    "df2=df1.drop(['start_date', 'end_date'], axis=1)            # удалим столбцы start и end date\n",
    "      "
   ]
  },
  {
   "cell_type": "code",
   "execution_count": 114,
   "id": "a30adb7e",
   "metadata": {},
   "outputs": [
    {
     "name": "stdout",
     "output_type": "stream",
     "text": [
      "<class 'pandas.core.frame.DataFrame'>\n",
      "RangeIndex: 93 entries, 0 to 92\n",
      "Data columns (total 4 columns):\n",
      " #   Column  Non-Null Count  Dtype  \n",
      "---  ------  --------------  -----  \n",
      " 0   date    93 non-null     object \n",
      " 1   code    93 non-null     object \n",
      " 2   rate    93 non-null     float64\n",
      " 3   base    93 non-null     object \n",
      "dtypes: float64(1), object(3)\n",
      "memory usage: 3.0+ KB\n"
     ]
    }
   ],
   "source": [
    "df2.to_csv('./files/jan2023_total.csv', sep=',', decimal=',', index=False)\n",
    "df2['rate']= df2['rate'].str.replace(',', '.').astype(float)\n",
    "df2.info()            # проверили, что у нас верное кол-во записей"
   ]
  },
  {
   "cell_type": "code",
   "execution_count": 115,
   "id": "4ab28a7d",
   "metadata": {},
   "outputs": [
    {
     "name": "stdout",
     "output_type": "stream",
     "text": [
      "         date code       rate base\n",
      "0  2023-01-01  RUB  20.065046  AED\n",
      "1  2023-01-02  RUB  19.739792  AED\n",
      "2  2023-01-03  RUB  19.886329  AED\n",
      "3  2023-01-04  RUB  19.741493  AED\n",
      "4  2023-01-05  RUB  19.636388  AED\n"
     ]
    }
   ],
   "source": [
    "print(df2.head(5))"
   ]
  },
  {
   "cell_type": "markdown",
   "id": "7ba9620a",
   "metadata": {},
   "source": [
    "2.Проведем анализ:\n",
    "1) день, в который значение курса было максимальным,\n",
    "\n",
    "2) день, в который значение курса было минимальным,\n",
    "\n",
    "3) максимальное значение курса,\n",
    "\n",
    "4) минимальное значение курса,\n",
    "\n",
    "5) среднее значение курса за весь месяц,\n",
    "\n",
    "6) значение курса на последний день месяца."
   ]
  },
  {
   "cell_type": "code",
   "execution_count": 116,
   "id": "78308ccd",
   "metadata": {},
   "outputs": [
    {
     "name": "stdout",
     "output_type": "stream",
     "text": [
      "\n",
      "День с максимальным значением валюты BTC: 2023-01-31 Значение курса 1670687.543478\n",
      "День с минимальным значением валюты BTC: 2023-01-01 Значение курса 1198845.096774\n",
      "Среднее значение валюты BTC: 1413587.7\n",
      "\n",
      "\n",
      "День с максимальным значением валюты CNY: 2023-01-31 Значение курса 10.68347\n",
      "День с минимальным значением валюты CNY: 2023-01-01 Значение курса 9.845475\n",
      "Среднее значение валюты CNY: 10.31\n",
      "\n",
      "\n",
      "День с максимальным значением валюты AED: 2023-01-31 Значение курса 20.065046\n",
      "День с минимальным значением валюты AED: 2023-01-01 Значение курса 17.96626\n",
      "Среднее значение валюты AED: 19.06\n",
      "\n",
      "  Currency Day_max rate      Max rate Day_min rate      Min rate      Avg rate\n",
      "0      BTC   2023-01-31  1.670688e+06   2023-01-01  1.198845e+06  1.413588e+06\n",
      "1      CNY   2023-01-31  1.068347e+01   2023-01-01  9.845475e+00  1.031000e+01\n",
      "2      AED   2023-01-31  2.006505e+01   2023-01-01  1.796626e+01  1.906000e+01\n"
     ]
    }
   ],
   "source": [
    "  finalDict = list()\n",
    "for base in currency:\n",
    "    df3 = pd.read_csv(f'./files/jan2023_{base}.csv', sep=',', decimal=',', index_col=False)\n",
    "    df3 = pd.DataFrame(df3) \n",
    "    day_max = df3['date'].max(axis=0)         # проведем анализ по валютам: день максимума, день минимума, \n",
    "    day_min = df3['date'].min(axis=0)\n",
    "    min_rate = df3['rate'].min()                       # максимальное, минимальное\n",
    "    max_rate = df3['rate'].max()\n",
    "    df3['rate'] = pd.to_numeric(df3['rate'], downcast=\"float\")\n",
    "    avg_rate=round(df3['rate'].mean(),2)                        # и среднее значение\n",
    "    data = {'Currency': base,'Day_max rate': day_max,'Max rate': max_rate, 'Day_min rate': day_min, 'Min rate': min_rate,'Avg rate':avg_rate} # создадим датафрейм\n",
    "    finalDict.append(data)          \n",
    "    print()\n",
    "    print(f'День с максимальным значением валюты {base}:', day_max,'Значение курса', max_rate)\n",
    "    print(f'День с минимальным значением валюты {base}:', day_min,'Значение курса', min_rate)\n",
    "    print(f'Среднее значение валюты {base}:', avg_rate)\n",
    "    print()\n",
    "    df4=pd.DataFrame.from_dict(finalDict, orient='columns')\n",
    "    df4.to_csv('./files/jan2023_analysis.csv', decimal=',', index=False)       # записали в отдельный файлик все рассчитанные значения\n",
    "print(df4) "
   ]
  },
  {
   "cell_type": "markdown",
   "id": "60254968",
   "metadata": {},
   "source": [
    "3. Нужно записать полученные данные в СУБД Постгрес:"
   ]
  },
  {
   "cell_type": "code",
   "execution_count": 122,
   "id": "27088396",
   "metadata": {},
   "outputs": [],
   "source": [
    "db_con = psycopg2.connect(database='exrate',     # создадим подключение к созданной базе данных exrate\n",
    "                        user='postgres',\n",
    "                        password='pass',\n",
    "                        host='localhost',\n",
    "                        port=5435)\n",
    "cur = db_con.cursor()"
   ]
  },
  {
   "cell_type": "code",
   "execution_count": 123,
   "id": "ca34602a",
   "metadata": {},
   "outputs": [],
   "source": [
    "cur.execute(\"\"\" CREATE TABLE rates_jan2023(\n",
    "    date DATE,\n",
    "    val_id VARCHAR,\n",
    "    base_rate DECIMAL,\n",
    "    val_base VARCHAR\n",
    ")\n",
    "\"\"\") \n",
    "db_con.commit()         # создадим общую таблицу rates_jan2023  "
   ]
  },
  {
   "cell_type": "code",
   "execution_count": 124,
   "id": "9b234d30",
   "metadata": {},
   "outputs": [],
   "source": [
    "cur.execute(\"\"\" COPY rates_jan2023 \n",
    "FROM '/tmp/jan2023_total.csv'\n",
    "DELIMITER ';'\n",
    "CSV HEADER;\n",
    "\"\"\")\n",
    "db_con.commit() # запишем файл с курсом в таблицу  (предварительно передали файл в контейнер командой docker cp \n"
   ]
  },
  {
   "cell_type": "code",
   "execution_count": 284,
   "id": "39621a51",
   "metadata": {},
   "outputs": [
    {
     "name": "stdout",
     "output_type": "stream",
     "text": [
      "(0, datetime.date(2023, 1, 1), 'RUB', Decimal('1231482.765625'), 'BTC')\n"
     ]
    }
   ],
   "source": [
    "cur.execute(\"\"\"select * from rates_jan2023;\"\"\")            #проверка записи\n",
    "print(cur.fetchone())\n",
    "db_con.commit()"
   ]
  },
  {
   "cell_type": "code",
   "execution_count": 118,
   "id": "8b05e111",
   "metadata": {},
   "outputs": [],
   "source": [
    "cur.execute(\"\"\"                                     \n",
    "CREATE TABLE rates_analysis(\n",
    "    Currency VARCHAR,\n",
    "    Date_max DATE ,\n",
    "    Max_rate DECIMAL,\n",
    "    Date_min DATE ,\n",
    "    Min_rate DECIMAL,\n",
    "    Avg_rate DECIMAL\n",
    "    \n",
    ")\n",
    "\"\"\")  \n",
    "db_con.commit()    # создадим таблицу c анализом курса  "
   ]
  },
  {
   "cell_type": "code",
   "execution_count": 121,
   "id": "354d8ce4",
   "metadata": {},
   "outputs": [],
   "source": [
    "cur.execute(\"\"\" COPY rates_analysis \n",
    "FROM '/tmp/jan2023_analysis.csv'\n",
    "DELIMITER ';'\n",
    "CSV HEADER;\"\"\")\n",
    "db_con.commit() # запишем файл с курсом в таблицу  (предварительно передали файл в контейнер командой docker cp C:\\Users\\jsb24\\.docker\\exdb\\analysis_BTC_Jan2023.csv ex_cont:/tmp/)"
   ]
  },
  {
   "cell_type": "code",
   "execution_count": 291,
   "id": "c14b4325",
   "metadata": {},
   "outputs": [
    {
     "name": "stdout",
     "output_type": "stream",
     "text": [
      "[(0, datetime.date(2023, 1, 31), Decimal('1670687.543478'), datetime.date(2023, 1, 1), Decimal('1198845.096774'), Decimal('1413587.697503516'))]\n"
     ]
    }
   ],
   "source": [
    "cur.execute(\"\"\"select * from btc_analysis;\"\"\")            #проверка записи\n",
    "print(cur.fetchall())\n",
    "db_con.commit()"
   ]
  },
  {
   "cell_type": "code",
   "execution_count": null,
   "id": "e3d1847c",
   "metadata": {},
   "outputs": [],
   "source": []
  }
 ],
 "metadata": {
  "kernelspec": {
   "display_name": "Python 3 (ipykernel)",
   "language": "python",
   "name": "python3"
  },
  "language_info": {
   "codemirror_mode": {
    "name": "ipython",
    "version": 3
   },
   "file_extension": ".py",
   "mimetype": "text/x-python",
   "name": "python",
   "nbconvert_exporter": "python",
   "pygments_lexer": "ipython3",
   "version": "3.11.3"
  }
 },
 "nbformat": 4,
 "nbformat_minor": 5
}
