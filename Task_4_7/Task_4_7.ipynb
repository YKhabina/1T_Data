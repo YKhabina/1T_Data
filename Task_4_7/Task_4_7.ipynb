{
 "cells": [
  {
   "cell_type": "code",
   "execution_count": null,
   "id": "902340cf",
   "metadata": {},
   "outputs": [],
   "source": []
  },
  {
   "cell_type": "code",
   "execution_count": 1,
   "id": "29406d10",
   "metadata": {},
   "outputs": [
    {
     "data": {
      "text/plain": [
       "'C:\\\\Users\\\\jsb24\\\\anaconda3\\\\envs\\\\PySpark\\\\Lib\\\\site-packages\\\\pyspark'"
      ]
     },
     "execution_count": 1,
     "metadata": {},
     "output_type": "execute_result"
    }
   ],
   "source": [
    "import findspark\n",
    "findspark.init()\n",
    "findspark.find()"
   ]
  },
  {
   "cell_type": "code",
   "execution_count": 52,
   "id": "b61e952c",
   "metadata": {},
   "outputs": [],
   "source": [
    "import pandas as pd\n",
    "import numpy as np"
   ]
  },
  {
   "cell_type": "code",
   "execution_count": 9,
   "id": "7d52a04a",
   "metadata": {},
   "outputs": [
    {
     "name": "stdout",
     "output_type": "stream",
     "text": [
      "Collecting openpyxl\n",
      "  Downloading openpyxl-3.1.2-py2.py3-none-any.whl (249 kB)\n",
      "     ---------------------------------------- 0.0/250.0 kB ? eta -:--:--\n",
      "     - -------------------------------------- 10.2/250.0 kB ? eta -:--:--\n",
      "     - -------------------------------------- 10.2/250.0 kB ? eta -:--:--\n",
      "     ---- -------------------------------- 30.7/250.0 kB 325.1 kB/s eta 0:00:01\n",
      "     --------- --------------------------- 61.4/250.0 kB 363.1 kB/s eta 0:00:01\n",
      "     ------------- ----------------------- 92.2/250.0 kB 476.3 kB/s eta 0:00:01\n",
      "     ---------------------------- ------- 194.6/250.0 kB 784.3 kB/s eta 0:00:01\n",
      "     ------------------------------------ 250.0/250.0 kB 901.3 kB/s eta 0:00:00\n",
      "Collecting et-xmlfile (from openpyxl)\n",
      "  Downloading et_xmlfile-1.1.0-py3-none-any.whl (4.7 kB)\n",
      "Installing collected packages: et-xmlfile, openpyxl\n",
      "Successfully installed et-xmlfile-1.1.0 openpyxl-3.1.2\n"
     ]
    }
   ],
   "source": [
    "!pip install openpyxl"
   ]
  },
  {
   "cell_type": "markdown",
   "id": "53b23dd0",
   "metadata": {},
   "source": [
    "С помощью модуля pandas преобразуйте файл из .xlsx в .csv формат:"
   ]
  },
  {
   "cell_type": "code",
   "execution_count": 3,
   "id": "a6adee9f",
   "metadata": {},
   "outputs": [],
   "source": [
    "raw_data = pd.read_excel('online_retail.xlsx')\n"
   ]
  },
  {
   "cell_type": "code",
   "execution_count": 4,
   "id": "8522c51c",
   "metadata": {},
   "outputs": [
    {
     "name": "stdout",
     "output_type": "stream",
     "text": [
      "<class 'pandas.core.frame.DataFrame'>\n",
      "RangeIndex: 541909 entries, 0 to 541908\n",
      "Data columns (total 8 columns):\n",
      " #   Column       Non-Null Count   Dtype         \n",
      "---  ------       --------------   -----         \n",
      " 0   InvoiceNo    541909 non-null  object        \n",
      " 1   StockCode    541909 non-null  object        \n",
      " 2   Description  540455 non-null  object        \n",
      " 3   Quantity     541909 non-null  int64         \n",
      " 4   InvoiceDate  541909 non-null  datetime64[ns]\n",
      " 5   UnitPrice    541909 non-null  float64       \n",
      " 6   CustomerID   406829 non-null  float64       \n",
      " 7   Country      541909 non-null  object        \n",
      "dtypes: datetime64[ns](1), float64(2), int64(1), object(4)\n",
      "memory usage: 33.1+ MB\n"
     ]
    }
   ],
   "source": [
    "raw_data.info()"
   ]
  },
  {
   "cell_type": "code",
   "execution_count": 5,
   "id": "89069818",
   "metadata": {},
   "outputs": [
    {
     "data": {
      "text/html": [
       "<div>\n",
       "<style scoped>\n",
       "    .dataframe tbody tr th:only-of-type {\n",
       "        vertical-align: middle;\n",
       "    }\n",
       "\n",
       "    .dataframe tbody tr th {\n",
       "        vertical-align: top;\n",
       "    }\n",
       "\n",
       "    .dataframe thead th {\n",
       "        text-align: right;\n",
       "    }\n",
       "</style>\n",
       "<table border=\"1\" class=\"dataframe\">\n",
       "  <thead>\n",
       "    <tr style=\"text-align: right;\">\n",
       "      <th></th>\n",
       "      <th>InvoiceNo</th>\n",
       "      <th>StockCode</th>\n",
       "      <th>Description</th>\n",
       "      <th>Quantity</th>\n",
       "      <th>InvoiceDate</th>\n",
       "      <th>UnitPrice</th>\n",
       "      <th>CustomerID</th>\n",
       "      <th>Country</th>\n",
       "    </tr>\n",
       "  </thead>\n",
       "  <tbody>\n",
       "    <tr>\n",
       "      <th>0</th>\n",
       "      <td>536365</td>\n",
       "      <td>85123A</td>\n",
       "      <td>WHITE HANGING HEART T-LIGHT HOLDER</td>\n",
       "      <td>6</td>\n",
       "      <td>2010-12-01 08:26:00</td>\n",
       "      <td>2.55</td>\n",
       "      <td>17850.0</td>\n",
       "      <td>United Kingdom</td>\n",
       "    </tr>\n",
       "    <tr>\n",
       "      <th>1</th>\n",
       "      <td>536365</td>\n",
       "      <td>71053</td>\n",
       "      <td>WHITE METAL LANTERN</td>\n",
       "      <td>6</td>\n",
       "      <td>2010-12-01 08:26:00</td>\n",
       "      <td>3.39</td>\n",
       "      <td>17850.0</td>\n",
       "      <td>United Kingdom</td>\n",
       "    </tr>\n",
       "    <tr>\n",
       "      <th>2</th>\n",
       "      <td>536365</td>\n",
       "      <td>84406B</td>\n",
       "      <td>CREAM CUPID HEARTS COAT HANGER</td>\n",
       "      <td>8</td>\n",
       "      <td>2010-12-01 08:26:00</td>\n",
       "      <td>2.75</td>\n",
       "      <td>17850.0</td>\n",
       "      <td>United Kingdom</td>\n",
       "    </tr>\n",
       "  </tbody>\n",
       "</table>\n",
       "</div>"
      ],
      "text/plain": [
       "  InvoiceNo StockCode                         Description  Quantity  \\\n",
       "0    536365    85123A  WHITE HANGING HEART T-LIGHT HOLDER         6   \n",
       "1    536365     71053                 WHITE METAL LANTERN         6   \n",
       "2    536365    84406B      CREAM CUPID HEARTS COAT HANGER         8   \n",
       "\n",
       "          InvoiceDate  UnitPrice  CustomerID         Country  \n",
       "0 2010-12-01 08:26:00       2.55     17850.0  United Kingdom  \n",
       "1 2010-12-01 08:26:00       3.39     17850.0  United Kingdom  \n",
       "2 2010-12-01 08:26:00       2.75     17850.0  United Kingdom  "
      ]
     },
     "execution_count": 5,
     "metadata": {},
     "output_type": "execute_result"
    }
   ],
   "source": [
    "raw_data.head(3)"
   ]
  },
  {
   "cell_type": "markdown",
   "id": "7b1377ad",
   "metadata": {},
   "source": [
    "С помощью модуля pandas преобразуйте файл из .xlsx в .csv формат"
   ]
  },
  {
   "cell_type": "code",
   "execution_count": 6,
   "id": "246fed96",
   "metadata": {},
   "outputs": [],
   "source": [
    "raw_data.to_csv('online_retail.csv', index=False)"
   ]
  },
  {
   "cell_type": "markdown",
   "id": "9033a47b",
   "metadata": {},
   "source": [
    "Инициализируйте Spark-сессию"
   ]
  },
  {
   "cell_type": "code",
   "execution_count": 67,
   "id": "206e9cf4",
   "metadata": {},
   "outputs": [],
   "source": [
    "# Import SparkSession\n",
    "from pyspark.sql import SparkSession\n",
    "from pyspark.sql import Window\n",
    "from pyspark.sql.functions import *\n",
    "import pyspark.sql.functions as F"
   ]
  },
  {
   "cell_type": "code",
   "execution_count": 8,
   "id": "41025478",
   "metadata": {},
   "outputs": [],
   "source": [
    "# Create SparkSession \n",
    "spark = SparkSession.builder \\\n",
    "  .master(\"local[1]\") \\\n",
    "  .appName(\"SparkFirst\") \\\n",
    "  .config(\"spark.executor.memory\", \"10g\")\\\n",
    "  .config(\"spark.executor.cores\", 5) \\\n",
    "  .config(\"spark.dynamicAllocation.enabled\", \"true\") \\\n",
    "  .config(\"spark.dynamicAllocation.maxExecutors\", 5) \\\n",
    "  .config(\"spark.shuffle.service.enabled\", \"true\") \\\n",
    "  .getOrCreate()"
   ]
  },
  {
   "cell_type": "markdown",
   "id": "7260eaa6",
   "metadata": {},
   "source": [
    "Создайте dataframe из скачанного файла:"
   ]
  },
  {
   "cell_type": "code",
   "execution_count": 45,
   "id": "2885267e",
   "metadata": {},
   "outputs": [],
   "source": [
    "df = spark.read.csv('online_retail.csv', header=True)"
   ]
  },
  {
   "cell_type": "code",
   "execution_count": 46,
   "id": "465d030e",
   "metadata": {},
   "outputs": [
    {
     "name": "stdout",
     "output_type": "stream",
     "text": [
      "+---------+---------+--------------------+--------+-------------------+---------+----------+--------------+\n",
      "|InvoiceNo|StockCode|         Description|Quantity|        InvoiceDate|UnitPrice|CustomerID|       Country|\n",
      "+---------+---------+--------------------+--------+-------------------+---------+----------+--------------+\n",
      "|   536365|   85123A|WHITE HANGING HEA...|       6|2010-12-01 08:26:00|     2.55|   17850.0|United Kingdom|\n",
      "|   536365|    71053| WHITE METAL LANTERN|       6|2010-12-01 08:26:00|     3.39|   17850.0|United Kingdom|\n",
      "|   536365|   84406B|CREAM CUPID HEART...|       8|2010-12-01 08:26:00|     2.75|   17850.0|United Kingdom|\n",
      "+---------+---------+--------------------+--------+-------------------+---------+----------+--------------+\n",
      "only showing top 3 rows\n",
      "\n"
     ]
    }
   ],
   "source": [
    "df.show(3)"
   ]
  },
  {
   "cell_type": "markdown",
   "id": "95d239c0",
   "metadata": {},
   "source": [
    "Подсчитайте количество строк в файле:"
   ]
  },
  {
   "cell_type": "code",
   "execution_count": 11,
   "id": "afab7bee",
   "metadata": {},
   "outputs": [
    {
     "name": "stdout",
     "output_type": "stream",
     "text": [
      "Количество строк: 541909\n"
     ]
    }
   ],
   "source": [
    "lines_cnt = df.count()\n",
    "print('Количество строк:', lines_cnt)"
   ]
  },
  {
   "cell_type": "markdown",
   "id": "6d91033f",
   "metadata": {},
   "source": [
    "Подсчитайте количество уникальных клиентов:"
   ]
  },
  {
   "cell_type": "code",
   "execution_count": 12,
   "id": "bc0a38e5",
   "metadata": {},
   "outputs": [
    {
     "name": "stdout",
     "output_type": "stream",
     "text": [
      "Количество уникальных клиентов: 4373\n"
     ]
    }
   ],
   "source": [
    "num_cust = df.select(\"CustomerID\").distinct().count()\n",
    "print('Количество уникальных клиентов:', num_cust)"
   ]
  },
  {
   "cell_type": "markdown",
   "id": "47e3be35",
   "metadata": {},
   "source": [
    "Подсчитайте в какой стране совершается большинство покупок"
   ]
  },
  {
   "cell_type": "code",
   "execution_count": 13,
   "id": "f9bf77b8",
   "metadata": {},
   "outputs": [
    {
     "name": "stdout",
     "output_type": "stream",
     "text": [
      "Страна с наибольшим количеством покупок: United Kingdom\n"
     ]
    }
   ],
   "source": [
    "country_max_sales = df.groupBy('Country').count().orderBy('count', ascending=False).first()[0]\n",
    "print('Страна с наибольшим количеством покупок:', country_max_sales)"
   ]
  },
  {
   "cell_type": "markdown",
   "id": "51144558",
   "metadata": {},
   "source": [
    "Подсчитайте дату самой ранней покупки"
   ]
  },
  {
   "cell_type": "code",
   "execution_count": 15,
   "id": "8a286982",
   "metadata": {},
   "outputs": [
    {
     "name": "stdout",
     "output_type": "stream",
     "text": [
      "Самая ранняя дата покупки: 2010-12-01 08:26:00\n"
     ]
    }
   ],
   "source": [
    "min_date = df.select(min('InvoiceDate')).first()[0]\n",
    "print('Самая ранняя дата покупки:', min_date)"
   ]
  },
  {
   "cell_type": "markdown",
   "id": "23fce2d2",
   "metadata": {},
   "source": [
    "Подсчитайте дату самой последней покупки на платформе"
   ]
  },
  {
   "cell_type": "code",
   "execution_count": 16,
   "id": "580078ad",
   "metadata": {},
   "outputs": [
    {
     "name": "stdout",
     "output_type": "stream",
     "text": [
      "Самая поздняя дата покупки: 2011-12-09 12:50:00\n"
     ]
    }
   ],
   "source": [
    "max_date = df.select(max('InvoiceDate')).first()[0]\n",
    "print(\"Самая поздняя дата покупки:\", max_date)"
   ]
  },
  {
   "cell_type": "markdown",
   "id": "d4d9b098",
   "metadata": {},
   "source": [
    "__Проведите RFM-анализ клиентов платформы.__ \n",
    "\n",
    "Добавьте в dataframe для каждого клиента 3 новых поля - recency (как давно он покупал), frequency (частота), monetary_value(денежная ценность)."
   ]
  },
  {
   "cell_type": "markdown",
   "id": "c6499db8",
   "metadata": {},
   "source": [
    "Денежная ценность клиента - это сумма всех его покупок:"
   ]
  },
  {
   "cell_type": "code",
   "execution_count": 47,
   "id": "d6a5a695",
   "metadata": {},
   "outputs": [
    {
     "name": "stdout",
     "output_type": "stream",
     "text": [
      "+----------+-----------------+\n",
      "|CustomerID|   Monetary_value|\n",
      "+----------+-----------------+\n",
      "|   15039.0|19786.43999999997|\n",
      "|   16553.0|5664.569999999999|\n",
      "|   13178.0|5725.470000000003|\n",
      "|   17786.0|           278.74|\n",
      "|   12891.0|            331.0|\n",
      "+----------+-----------------+\n",
      "only showing top 5 rows\n",
      "\n"
     ]
    }
   ],
   "source": [
    "df_mon=df.withColumn('Total_sum_order',round (col('UnitPrice')*col('Quantity'),2))\n",
    "df_mon = df_mon.groupBy('CustomerID').agg(sum('Total_sum_order').alias('Monetary_value'))\n",
    "df_mon.show(5)"
   ]
  },
  {
   "cell_type": "markdown",
   "id": "15b5db70",
   "metadata": {},
   "source": [
    "Частота покупок - это число чеков клиента:"
   ]
  },
  {
   "cell_type": "code",
   "execution_count": 48,
   "id": "45fabea5",
   "metadata": {},
   "outputs": [
    {
     "name": "stdout",
     "output_type": "stream",
     "text": [
      "+----------+---------+\n",
      "|CustomerID|Frequency|\n",
      "+----------+---------+\n",
      "|   15039.0|     1508|\n",
      "|   16553.0|       86|\n",
      "|   13178.0|      265|\n",
      "|   17786.0|       72|\n",
      "|   12891.0|        3|\n",
      "+----------+---------+\n",
      "only showing top 5 rows\n",
      "\n"
     ]
    }
   ],
   "source": [
    "df_freq = df.groupBy('CustomerID').agg(count('InvoiceNo').alias('Frequency'))\n",
    "df_freq.show(5)"
   ]
  },
  {
   "cell_type": "markdown",
   "id": "0e87d38a",
   "metadata": {},
   "source": [
    "Давность - это разница текущего момента и последней даты покупки клиента."
   ]
  },
  {
   "cell_type": "code",
   "execution_count": 39,
   "id": "19f73367",
   "metadata": {},
   "outputs": [],
   "source": [
    "today = current_date()"
   ]
  },
  {
   "cell_type": "code",
   "execution_count": 49,
   "id": "ce03323a",
   "metadata": {},
   "outputs": [
    {
     "name": "stdout",
     "output_type": "stream",
     "text": [
      "+----------+-------------------+-------+\n",
      "|CustomerID|           Max_date|Recency|\n",
      "+----------+-------------------+-------+\n",
      "|      null|2011-12-09 10:26:00|   4281|\n",
      "|   12346.0|2011-01-18 10:17:00|   4606|\n",
      "|   12347.0|2011-12-07 15:52:00|   4283|\n",
      "|   12348.0|2011-09-25 13:13:00|   4356|\n",
      "|   12349.0|2011-11-21 09:51:00|   4299|\n",
      "+----------+-------------------+-------+\n",
      "only showing top 5 rows\n",
      "\n"
     ]
    }
   ],
   "source": [
    "df_rec = df.groupBy('CustomerID').agg(max('InvoiceDate').alias('Max_date'))\n",
    "df_rec = df_rec.withColumn('Recency', datediff(today, df_rec['Max_date']))\n",
    "df_rec.show(5)"
   ]
  },
  {
   "cell_type": "code",
   "execution_count": 50,
   "id": "7f675b49",
   "metadata": {},
   "outputs": [
    {
     "name": "stdout",
     "output_type": "stream",
     "text": [
      "+----------+---------+---------+--------------------+--------+-------------------+---------+--------------+-----------------+---------+-------------------+-------+\n",
      "|CustomerID|InvoiceNo|StockCode|         Description|Quantity|        InvoiceDate|UnitPrice|       Country|   Monetary_value|Frequency|           Max_date|Recency|\n",
      "+----------+---------+---------+--------------------+--------+-------------------+---------+--------------+-----------------+---------+-------------------+-------+\n",
      "|   17850.0|   536365|   85123A|WHITE HANGING HEA...|       6|2010-12-01 08:26:00|     2.55|United Kingdom|5288.630000000009|      312|2011-02-10 14:38:00|   4583|\n",
      "|   17850.0|   536365|    71053| WHITE METAL LANTERN|       6|2010-12-01 08:26:00|     3.39|United Kingdom|5288.630000000009|      312|2011-02-10 14:38:00|   4583|\n",
      "|   17850.0|   536365|   84406B|CREAM CUPID HEART...|       8|2010-12-01 08:26:00|     2.75|United Kingdom|5288.630000000009|      312|2011-02-10 14:38:00|   4583|\n",
      "|   17850.0|   536365|   84029G|KNITTED UNION FLA...|       6|2010-12-01 08:26:00|     3.39|United Kingdom|5288.630000000009|      312|2011-02-10 14:38:00|   4583|\n",
      "|   17850.0|   536365|   84029E|RED WOOLLY HOTTIE...|       6|2010-12-01 08:26:00|     3.39|United Kingdom|5288.630000000009|      312|2011-02-10 14:38:00|   4583|\n",
      "+----------+---------+---------+--------------------+--------+-------------------+---------+--------------+-----------------+---------+-------------------+-------+\n",
      "only showing top 5 rows\n",
      "\n"
     ]
    }
   ],
   "source": [
    "df_new = df.join(df_mon, 'CustomerID', how = 'inner').join(df_freq, 'CustomerID', how = 'inner').join(df_rec, 'CustomerID', how = 'inner')\n",
    "df_new.show(5)"
   ]
  },
  {
   "cell_type": "markdown",
   "id": "c12af263",
   "metadata": {},
   "source": [
    "Для каждого показателя добавьте стобец с разбиением клиентов на 3 группы. Допустим, у нас есть 3 клиента, первый клиент последний раз купил товар только в прошлом году, второй клиент в прошлом месяце, а третий клиент на прошлой неделе. Каждый из этих клиентов должен получить различные значения группы для показателя Recency - A, B и С, где А - отражает наибольшую “ценность”, а С - соответственно, наименьшую. "
   ]
  },
  {
   "cell_type": "code",
   "execution_count": 61,
   "id": "aa943573",
   "metadata": {},
   "outputs": [],
   "source": [
    "quantiles_r = df_new.approxQuantile('Recency', [0.33, 0.66], 0.01)\n",
    "quantiles_f = df_new.approxQuantile('Frequency', [0.33, 0.66], 0.01)\n",
    "quantiles_m = df_new.approxQuantile('Monetary_value', [0.33, 0.66], 0.01)"
   ]
  },
  {
   "cell_type": "code",
   "execution_count": 62,
   "id": "d879cb72",
   "metadata": {},
   "outputs": [],
   "source": [
    "df_new = df_new.withColumn('Recency_factor', when(df_new['Recency'] <= quantiles_r[0], 'C')\n",
    "                           .when((df_new['Recency'] > quantiles_r[0]) & (df_new['Recency'] <= quantiles_r[1]), 'B')\n",
    "                           .otherwise('A'))"
   ]
  },
  {
   "cell_type": "code",
   "execution_count": 63,
   "id": "616695d4",
   "metadata": {},
   "outputs": [],
   "source": [
    "df_new = df_new.withColumn('Frequency_factor', when(df_new['Frequency'] <= quantiles_f[0], 'C')\n",
    "                           .when((df_new['Frequency'] > quantiles_f[0]) & (df_new['Frequency'] <= quantiles_f[1]), 'B')\n",
    "                           .otherwise('A'))"
   ]
  },
  {
   "cell_type": "code",
   "execution_count": 64,
   "id": "af842e18",
   "metadata": {},
   "outputs": [],
   "source": [
    "df_new = df_new.withColumn('Monetary_factor', when(df_new['Monetary_value'] <= quantiles_m[0], 'C')\n",
    "                           .when((df_new['Monetary_value'] > quantiles_m[0]) & (df_new['Monetary_value'] <= quantiles_m[1]), 'B')\n",
    "                           .otherwise('A'))"
   ]
  },
  {
   "cell_type": "code",
   "execution_count": 70,
   "id": "f271a808",
   "metadata": {},
   "outputs": [
    {
     "name": "stdout",
     "output_type": "stream",
     "text": [
      "+----------+-------+---------+-----------------+--------------+----------------+---------------+------+\n",
      "|CustomerID|Recency|Frequency|   Monetary_value|Recency_factor|Frequency_factor|Monetary_factor|groups|\n",
      "+----------+-------+---------+-----------------+--------------+----------------+---------------+------+\n",
      "|   15039.0|   4290|     1508|19786.43999999997|             B|               A|              A|   BAA|\n",
      "|   15039.0|   4290|     1508|19786.43999999997|             B|               A|              A|   BAA|\n",
      "|   15039.0|   4290|     1508|19786.43999999997|             B|               A|              A|   BAA|\n",
      "|   15039.0|   4290|     1508|19786.43999999997|             B|               A|              A|   BAA|\n",
      "|   15039.0|   4290|     1508|19786.43999999997|             B|               A|              A|   BAA|\n",
      "+----------+-------+---------+-----------------+--------------+----------------+---------------+------+\n",
      "only showing top 5 rows\n",
      "\n"
     ]
    }
   ],
   "source": [
    "rfm_table = df_new.withColumn('groups', F.concat(F.col('Recency_factor'),F.col('Frequency_factor'),F.col('Monetary_factor')))\n",
    "rfm_table.select('CustomerID','Recency','Frequency','Monetary_value','Recency_factor','Frequency_factor','Monetary_factor', 'groups').show(5)"
   ]
  },
  {
   "cell_type": "markdown",
   "id": "fdc45fcc",
   "metadata": {},
   "source": [
    "Добавьте итоговый столбец с “суммой” значений групп по каждому показателю и сохраните в отдельный csv-файл Id только тех клиентов, у которых значения групп ААА."
   ]
  },
  {
   "cell_type": "code",
   "execution_count": 74,
   "id": "79699c84",
   "metadata": {},
   "outputs": [
    {
     "name": "stdout",
     "output_type": "stream",
     "text": [
      "+----------+\n",
      "|CustomerID|\n",
      "+----------+\n",
      "|   17865.0|\n",
      "|   17509.0|\n",
      "|   12472.0|\n",
      "|   15719.0|\n",
      "|   16843.0|\n",
      "+----------+\n",
      "only showing top 5 rows\n",
      "\n"
     ]
    }
   ],
   "source": [
    "best_clients = rfm_table.select(['CustomerID']).filter(rfm_table.groups == 'AAA').distinct()\n",
    "best_clients.show(5)"
   ]
  },
  {
   "cell_type": "code",
   "execution_count": 76,
   "id": "b87a15c3",
   "metadata": {},
   "outputs": [],
   "source": [
    "best_clients.toPandas().to_csv('best_clients.csv', index=False)"
   ]
  },
  {
   "cell_type": "code",
   "execution_count": null,
   "id": "cd6aa0f0",
   "metadata": {},
   "outputs": [],
   "source": []
  }
 ],
 "metadata": {
  "kernelspec": {
   "display_name": "Python 3 (ipykernel)",
   "language": "python",
   "name": "python3"
  },
  "language_info": {
   "codemirror_mode": {
    "name": "ipython",
    "version": 3
   },
   "file_extension": ".py",
   "mimetype": "text/x-python",
   "name": "python",
   "nbconvert_exporter": "python",
   "pygments_lexer": "ipython3",
   "version": "3.11.4"
  }
 },
 "nbformat": 4,
 "nbformat_minor": 5
}
